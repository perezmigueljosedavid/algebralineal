{
  "nbformat": 4,
  "nbformat_minor": 0,
  "metadata": {
    "colab": {
      "provenance": [],
      "authorship_tag": "ABX9TyO/+DNCvIQWglnfUUBWRgkA",
      "include_colab_link": true
    },
    "kernelspec": {
      "name": "python3",
      "display_name": "Python 3"
    },
    "language_info": {
      "name": "python"
    }
  },
  "cells": [
    {
      "cell_type": "markdown",
      "metadata": {
        "id": "view-in-github",
        "colab_type": "text"
      },
      "source": [
        "<a href=\"https://colab.research.google.com/github/perezmigueljosedavid/algebralineal/blob/main/Tarea_2(Jose_David_PM).ipynb\" target=\"_parent\"><img src=\"https://colab.research.google.com/assets/colab-badge.svg\" alt=\"Open In Colab\"/></a>"
      ]
    },
    {
      "cell_type": "code",
      "execution_count": 13,
      "metadata": {
        "colab": {
          "base_uri": "https://localhost:8080/"
        },
        "id": "COQ7sSKJmXyd",
        "outputId": "7d0dab21-ac8e-430c-8400-460c222b38c5"
      },
      "outputs": [
        {
          "output_type": "stream",
          "name": "stdout",
          "text": [
            "Requirement already satisfied: nacal in /usr/local/lib/python3.10/dist-packages (0.1.30)\n",
            "Requirement already satisfied: sympy>=1.1.0 in /usr/local/lib/python3.10/dist-packages (from nacal) (1.12)\n",
            "Requirement already satisfied: mpmath>=0.19 in /usr/local/lib/python3.10/dist-packages (from sympy>=1.1.0->nacal) (1.3.0)\n"
          ]
        }
      ],
      "source": [
        "!pip install --target=$nb_path nacal\n",
        "from nacal import *\n",
        "from IPython.display import display, Math, Latex"
      ]
    },
    {
      "cell_type": "code",
      "source": [
        "d = Vector( [4, 5, 6, 7, 8] )\n",
        "e = Vector( [1, 2, 3, 4, 5] )\n",
        "f = Vector( [9, 10, 11, 12, 13] )\n",
        "b = Matrix([d, e, f])\n",
        "a = Matrix([f, e, d])\n",
        "c = Matrix([e, f, d])\n",
        "latex(b)\n",
        "latex(a)"
      ],
      "metadata": {
        "colab": {
          "base_uri": "https://localhost:8080/",
          "height": 35
        },
        "id": "BASoiHXAmwM9",
        "outputId": "82636342-07bd-4983-e8a3-0e304ebd3336"
      },
      "execution_count": 14,
      "outputs": [
        {
          "output_type": "execute_result",
          "data": {
            "text/plain": [
              "'\\\\left[ \\\\begin{array}{ccc}9&1&4\\\\\\\\10&2&5\\\\\\\\11&3&6\\\\\\\\12&4&7\\\\\\\\13&5&8\\\\\\\\ \\\\end{array} \\\\right]'"
            ],
            "application/vnd.google.colaboratory.intrinsic+json": {
              "type": "string"
            }
          },
          "metadata": {},
          "execution_count": 14
        }
      ]
    },
    {
      "cell_type": "markdown",
      "source": [
        "## EJERCICO 4.\n",
        "Como evalúa nCAL las siguientes expresiones\n",
        "\n",
        "(a) $$3*b|1$$\n",
        "(b) $$3*1|b$$\n",
        "(c) $$1*3|b$$\n",
        "(d) $$1|b*3$$"
      ],
      "metadata": {
        "id": "7bgjSA6LnFEq"
      }
    },
    {
      "cell_type": "code",
      "source": [
        "print(3*b|1)\n",
        "print(3*1|b)\n",
        "print(1*3|b)\n",
        "print(1|b*3)\n",
        "\n"
      ],
      "metadata": {
        "colab": {
          "base_uri": "https://localhost:8080/"
        },
        "id": "3O1RxEfQoBkH",
        "outputId": "56a43670-ec3b-4cca-be72-490eb20b18ee"
      },
      "execution_count": 23,
      "outputs": [
        {
          "output_type": "stream",
          "name": "stdout",
          "text": [
            "Vector([12, 15, 18, 21, 24])\n",
            "Vector([6, 3, 11])\n",
            "Vector([6, 3, 11])\n",
            "Vector([12, 3, 27])\n"
          ]
        }
      ]
    },
    {
      "cell_type": "code",
      "source": [
        "display(Latex(latex(3*b|1)))\n",
        "display(Latex(latex(3*1|b)))\n",
        "display(Latex(latex(1*3|b)))\n",
        "display(Latex(latex(1|b*3)))"
      ],
      "metadata": {
        "colab": {
          "base_uri": "https://localhost:8080/",
          "height": 183
        },
        "id": "pd98O4xOskrn",
        "outputId": "c440e987-6866-4ce6-8343-65cc79644f3a"
      },
      "execution_count": 24,
      "outputs": [
        {
          "output_type": "display_data",
          "data": {
            "text/plain": [
              "<IPython.core.display.Latex object>"
            ],
            "text/latex": "\\begin{pmatrix}12\\\\ 15\\\\ 18\\\\ 21\\\\ 24\\end{pmatrix}"
          },
          "metadata": {}
        },
        {
          "output_type": "display_data",
          "data": {
            "text/plain": [
              "<IPython.core.display.Latex object>"
            ],
            "text/latex": "\\begin{pmatrix}6,& 3,& 11,\\end{pmatrix}"
          },
          "metadata": {}
        },
        {
          "output_type": "display_data",
          "data": {
            "text/plain": [
              "<IPython.core.display.Latex object>"
            ],
            "text/latex": "\\begin{pmatrix}6,& 3,& 11,\\end{pmatrix}"
          },
          "metadata": {}
        },
        {
          "output_type": "display_data",
          "data": {
            "text/plain": [
              "<IPython.core.display.Latex object>"
            ],
            "text/latex": "\\begin{pmatrix}12,& 3,& 27,\\end{pmatrix}"
          },
          "metadata": {}
        }
      ]
    },
    {
      "cell_type": "markdown",
      "source": [
        "## EJERCICIO 6\n",
        "\n",
        "\n"
      ],
      "metadata": {
        "id": "VTehDRD7q7Or"
      }
    },
    {
      "cell_type": "markdown",
      "source": [
        "## Demuestre las propiedades de la proposición"
      ],
      "metadata": {
        "id": "0RwhO3U9rxUG"
      }
    },
    {
      "cell_type": "markdown",
      "source": [
        "#A+B=B+A"
      ],
      "metadata": {
        "id": "grd4HZDSsIpw"
      }
    },
    {
      "cell_type": "code",
      "source": [
        "display(Latex(latex(a+b)))\n",
        "display(Latex(latex(b+a)))"
      ],
      "metadata": {
        "colab": {
          "base_uri": "https://localhost:8080/",
          "height": 220
        },
        "id": "Ijsi3g9frUU7",
        "outputId": "e6658f98-a240-4d9e-b2a6-62a79cc6d2e2"
      },
      "execution_count": 21,
      "outputs": [
        {
          "output_type": "display_data",
          "data": {
            "text/plain": [
              "<IPython.core.display.Latex object>"
            ],
            "text/latex": "\\left[ \\begin{array}{ccc}13&2&13\\\\15&4&15\\\\17&6&17\\\\19&8&19\\\\21&10&21\\\\ \\end{array} \\right]"
          },
          "metadata": {}
        },
        {
          "output_type": "display_data",
          "data": {
            "text/plain": [
              "<IPython.core.display.Latex object>"
            ],
            "text/latex": "\\left[ \\begin{array}{ccc}13&2&13\\\\15&4&15\\\\17&6&17\\\\19&8&19\\\\21&10&21\\\\ \\end{array} \\right]"
          },
          "metadata": {}
        }
      ]
    },
    {
      "cell_type": "code",
      "source": [
        "print(a+b)\n",
        "print(b+a)"
      ],
      "metadata": {
        "colab": {
          "base_uri": "https://localhost:8080/"
        },
        "id": "xENV69WusYWU",
        "outputId": "d6ab150b-6c92-4014-fa18-68634d5fefad"
      },
      "execution_count": 22,
      "outputs": [
        {
          "output_type": "stream",
          "name": "stdout",
          "text": [
            "Matrix([Vector([13, 15, 17, 19, 21]), Vector([2, 4, 6, 8, 10]), Vector([13, 15, 17, 19, 21])])\n",
            "Matrix([Vector([13, 15, 17, 19, 21]), Vector([2, 4, 6, 8, 10]), Vector([13, 15, 17, 19, 21])])\n"
          ]
        }
      ]
    },
    {
      "cell_type": "markdown",
      "source": [
        "## propiedad correcta"
      ],
      "metadata": {
        "id": "0M3hJ0TDuVqg"
      }
    },
    {
      "cell_type": "markdown",
      "source": [
        "# A+(B+C)=(A+B)+C"
      ],
      "metadata": {
        "id": "LgMqDM0is9oN"
      }
    },
    {
      "cell_type": "code",
      "source": [
        "display(Latex(latex(a+(b+c))))\n",
        "display(Latex(latex((a+b)+c)))"
      ],
      "metadata": {
        "colab": {
          "base_uri": "https://localhost:8080/",
          "height": 220
        },
        "id": "IaSbDp1jtN5N",
        "outputId": "a3ac5a6e-3c22-402f-b345-f2eca685f787"
      },
      "execution_count": 25,
      "outputs": [
        {
          "output_type": "display_data",
          "data": {
            "text/plain": [
              "<IPython.core.display.Latex object>"
            ],
            "text/latex": "\\left[ \\begin{array}{ccc}14&11&17\\\\17&14&20\\\\20&17&23\\\\23&20&26\\\\26&23&29\\\\ \\end{array} \\right]"
          },
          "metadata": {}
        },
        {
          "output_type": "display_data",
          "data": {
            "text/plain": [
              "<IPython.core.display.Latex object>"
            ],
            "text/latex": "\\left[ \\begin{array}{ccc}14&11&17\\\\17&14&20\\\\20&17&23\\\\23&20&26\\\\26&23&29\\\\ \\end{array} \\right]"
          },
          "metadata": {}
        }
      ]
    },
    {
      "cell_type": "code",
      "source": [
        "print(a+(b+c))\n",
        "print((a+b)+c)"
      ],
      "metadata": {
        "colab": {
          "base_uri": "https://localhost:8080/"
        },
        "id": "8n29t5-MtTcx",
        "outputId": "ba67961c-d5f1-4f5a-9566-738c9bdd87f0"
      },
      "execution_count": 27,
      "outputs": [
        {
          "output_type": "stream",
          "name": "stdout",
          "text": [
            "Matrix([Vector([14, 17, 20, 23, 26]), Vector([11, 14, 17, 20, 23]), Vector([17, 20, 23, 26, 29])])\n",
            "Matrix([Vector([14, 17, 20, 23, 26]), Vector([11, 14, 17, 20, 23]), Vector([17, 20, 23, 26, 29])])\n"
          ]
        }
      ]
    },
    {
      "cell_type": "markdown",
      "source": [
        "## propiedad correcta"
      ],
      "metadata": {
        "id": "nr51-Jk6t7Um"
      }
    },
    {
      "cell_type": "markdown",
      "source": [
        "# 0+A=A"
      ],
      "metadata": {
        "id": "7z7lZGoutufY"
      }
    },
    {
      "cell_type": "code",
      "source": [
        "display(Latex(latex(0+(1|a|1))))\n",
        "display(Latex(latex(1|a|1)))"
      ],
      "metadata": {
        "colab": {
          "base_uri": "https://localhost:8080/",
          "height": 58
        },
        "id": "77EHuXoSupBY",
        "outputId": "4bb88861-c08b-49e9-8d43-c832026d525d"
      },
      "execution_count": 28,
      "outputs": [
        {
          "output_type": "display_data",
          "data": {
            "text/plain": [
              "<IPython.core.display.Latex object>"
            ],
            "text/latex": "9"
          },
          "metadata": {}
        },
        {
          "output_type": "display_data",
          "data": {
            "text/plain": [
              "<IPython.core.display.Latex object>"
            ],
            "text/latex": "9"
          },
          "metadata": {}
        }
      ]
    },
    {
      "cell_type": "markdown",
      "source": [
        "## propiedad correcta"
      ],
      "metadata": {
        "id": "_RShPxmKvYwN"
      }
    },
    {
      "cell_type": "markdown",
      "source": [
        "# A+(-A)=0"
      ],
      "metadata": {
        "id": "J3Ho231_vQbz"
      }
    },
    {
      "cell_type": "code",
      "source": [
        "display(Latex(latex(a+(-a))))"
      ],
      "metadata": {
        "colab": {
          "base_uri": "https://localhost:8080/",
          "height": 119
        },
        "id": "c_C68ogkvfqz",
        "outputId": "6f5154e3-cf70-4458-fc6d-9f441290f146"
      },
      "execution_count": 35,
      "outputs": [
        {
          "output_type": "display_data",
          "data": {
            "text/plain": [
              "<IPython.core.display.Latex object>"
            ],
            "text/latex": "\\left[ \\begin{array}{ccc}0&0&0\\\\0&0&0\\\\0&0&0\\\\0&0&0\\\\0&0&0\\\\ \\end{array} \\right]"
          },
          "metadata": {}
        }
      ]
    },
    {
      "cell_type": "markdown",
      "source": [
        "## propiedad correcta"
      ],
      "metadata": {
        "id": "Lzgky5Mlvtat"
      }
    },
    {
      "cell_type": "markdown",
      "source": [
        "# λ(A+B)=λA+λB"
      ],
      "metadata": {
        "id": "ESg6qMCVvwr5"
      }
    },
    {
      "cell_type": "code",
      "source": [
        "display(Latex(latex(3*(a+b))))\n",
        "display(Latex(latex((3*a)+(3*b))))"
      ],
      "metadata": {
        "colab": {
          "base_uri": "https://localhost:8080/",
          "height": 220
        },
        "id": "_3SW0Mexv42m",
        "outputId": "fee14a35-fb22-4409-c77e-18cf62e82c39"
      },
      "execution_count": 36,
      "outputs": [
        {
          "output_type": "display_data",
          "data": {
            "text/plain": [
              "<IPython.core.display.Latex object>"
            ],
            "text/latex": "\\left[ \\begin{array}{ccc}39&6&39\\\\45&12&45\\\\51&18&51\\\\57&24&57\\\\63&30&63\\\\ \\end{array} \\right]"
          },
          "metadata": {}
        },
        {
          "output_type": "display_data",
          "data": {
            "text/plain": [
              "<IPython.core.display.Latex object>"
            ],
            "text/latex": "\\left[ \\begin{array}{ccc}39&6&39\\\\45&12&45\\\\51&18&51\\\\57&24&57\\\\63&30&63\\\\ \\end{array} \\right]"
          },
          "metadata": {}
        }
      ]
    },
    {
      "cell_type": "markdown",
      "source": [
        "## propiedad correcta"
      ],
      "metadata": {
        "id": "wvQnb0MhwBJ9"
      }
    },
    {
      "cell_type": "markdown",
      "source": [
        "# (λ+n)A=λA+n*A"
      ],
      "metadata": {
        "id": "kzPcs4UvwDSz"
      }
    },
    {
      "cell_type": "code",
      "source": [
        "display(Latex(latex((3+2)*a)))\n",
        "display(Latex(latex((3*a)+(2*a))))"
      ],
      "metadata": {
        "colab": {
          "base_uri": "https://localhost:8080/",
          "height": 220
        },
        "id": "3v9qbcFawHeo",
        "outputId": "16052035-178d-43a0-cf15-330e1e3237f9"
      },
      "execution_count": 37,
      "outputs": [
        {
          "output_type": "display_data",
          "data": {
            "text/plain": [
              "<IPython.core.display.Latex object>"
            ],
            "text/latex": "\\left[ \\begin{array}{ccc}45&5&20\\\\50&10&25\\\\55&15&30\\\\60&20&35\\\\65&25&40\\\\ \\end{array} \\right]"
          },
          "metadata": {}
        },
        {
          "output_type": "display_data",
          "data": {
            "text/plain": [
              "<IPython.core.display.Latex object>"
            ],
            "text/latex": "\\left[ \\begin{array}{ccc}45&5&20\\\\50&10&25\\\\55&15&30\\\\60&20&35\\\\65&25&40\\\\ \\end{array} \\right]"
          },
          "metadata": {}
        }
      ]
    },
    {
      "cell_type": "markdown",
      "source": [
        "## propiedad correcta"
      ],
      "metadata": {
        "id": "UnhSyaG0wRu9"
      }
    },
    {
      "cell_type": "markdown",
      "source": [
        "# λ(nA)=(λn)A"
      ],
      "metadata": {
        "id": "0mbKn51mwcHH"
      }
    },
    {
      "cell_type": "code",
      "source": [
        "display(Latex(latex(3*(2*a))))\n",
        "display(Latex(latex((2*3)*a)))"
      ],
      "metadata": {
        "colab": {
          "base_uri": "https://localhost:8080/",
          "height": 220
        },
        "id": "F4DScXtiwi7N",
        "outputId": "67c1a565-d090-4233-bcc9-9c979cc7940b"
      },
      "execution_count": 38,
      "outputs": [
        {
          "output_type": "display_data",
          "data": {
            "text/plain": [
              "<IPython.core.display.Latex object>"
            ],
            "text/latex": "\\left[ \\begin{array}{ccc}54&6&24\\\\60&12&30\\\\66&18&36\\\\72&24&42\\\\78&30&48\\\\ \\end{array} \\right]"
          },
          "metadata": {}
        },
        {
          "output_type": "display_data",
          "data": {
            "text/plain": [
              "<IPython.core.display.Latex object>"
            ],
            "text/latex": "\\left[ \\begin{array}{ccc}54&6&24\\\\60&12&30\\\\66&18&36\\\\72&24&42\\\\78&30&48\\\\ \\end{array} \\right]"
          },
          "metadata": {}
        }
      ]
    },
    {
      "cell_type": "markdown",
      "source": [
        "## propiedad correcta"
      ],
      "metadata": {
        "id": "Jw0QQk7EwpmV"
      }
    },
    {
      "cell_type": "markdown",
      "source": [
        "# 1A=A"
      ],
      "metadata": {
        "id": "WZVitnL6w0n8"
      }
    },
    {
      "cell_type": "code",
      "source": [
        "display(Latex(latex(a)))\n",
        "display(Latex(latex(1*a)))"
      ],
      "metadata": {
        "colab": {
          "base_uri": "https://localhost:8080/",
          "height": 220
        },
        "id": "NGmiuK7gw9TI",
        "outputId": "0fa79436-de94-44bd-f61b-d092214a4739"
      },
      "execution_count": 39,
      "outputs": [
        {
          "output_type": "display_data",
          "data": {
            "text/plain": [
              "<IPython.core.display.Latex object>"
            ],
            "text/latex": "\\left[ \\begin{array}{ccc}9&1&4\\\\10&2&5\\\\11&3&6\\\\12&4&7\\\\13&5&8\\\\ \\end{array} \\right]"
          },
          "metadata": {}
        },
        {
          "output_type": "display_data",
          "data": {
            "text/plain": [
              "<IPython.core.display.Latex object>"
            ],
            "text/latex": "\\left[ \\begin{array}{ccc}9&1&4\\\\10&2&5\\\\11&3&6\\\\12&4&7\\\\13&5&8\\\\ \\end{array} \\right]"
          },
          "metadata": {}
        }
      ]
    },
    {
      "cell_type": "markdown",
      "source": [
        "## propiedad correcta"
      ],
      "metadata": {
        "id": "WJHUPY3pxDlI"
      }
    }
  ]
}