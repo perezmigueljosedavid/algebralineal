{
  "nbformat": 4,
  "nbformat_minor": 0,
  "metadata": {
    "colab": {
      "provenance": [],
      "include_colab_link": true
    },
    "kernelspec": {
      "name": "python3",
      "display_name": "Python 3"
    },
    "language_info": {
      "name": "python"
    }
  },
  "cells": [
    {
      "cell_type": "markdown",
      "metadata": {
        "id": "view-in-github",
        "colab_type": "text"
      },
      "source": [
        "<a href=\"https://colab.research.google.com/github/perezmigueljosedavid/algebralineal/blob/main/Examen1AL.ipynb\" target=\"_parent\"><img src=\"https://colab.research.google.com/assets/colab-badge.svg\" alt=\"Open In Colab\"/></a>"
      ]
    },
    {
      "cell_type": "markdown",
      "source": [
        "## Algebra Lineal\n",
        "\n",
        "### 1er examen parcial"
      ],
      "metadata": {
        "id": "m93nhBA98vRW"
      }
    },
    {
      "cell_type": "code",
      "source": [
        "!pip install --target=$nb_path nacal\n",
        "from nacal import *\n",
        "import math\n",
        "from math import *\n",
        "from IPython.display import display, Math, Latex"
      ],
      "metadata": {
        "id": "PJgdMSWkNBxv",
        "outputId": "d8c9df39-e755-4c62-9c80-124c8bc84aae",
        "colab": {
          "base_uri": "https://localhost:8080/"
        }
      },
      "execution_count": 11,
      "outputs": [
        {
          "output_type": "stream",
          "name": "stdout",
          "text": [
            "Requirement already satisfied: nacal in /usr/local/lib/python3.10/dist-packages (0.2.1)\n",
            "Requirement already satisfied: sympy>=1.1.0 in /usr/local/lib/python3.10/dist-packages (from nacal) (1.12.1)\n",
            "Requirement already satisfied: mpmath<1.4.0,>=1.1.0 in /usr/local/lib/python3.10/dist-packages (from sympy>=1.1.0->nacal) (1.3.0)\n"
          ]
        }
      ]
    },
    {
      "cell_type": "markdown",
      "source": [
        "EN este notebook deberás realizar cada uno de los ejercicios utilizando Python dentro de los bloques de código, si alguna salida requiere la visualización mediante Latex escribe el bloque correspondiente."
      ],
      "metadata": {
        "id": "OWBcJp7z9U8G"
      }
    },
    {
      "cell_type": "markdown",
      "metadata": {
        "id": "kXLRi02u_bK6"
      },
      "source": [
        "1. Genere los vectores $a$ y $ {b}$:\n",
        "\n",
        "-   el vector ${a}$ está formado por la lista de números: 1, 4, 9, 2, -5, π\n",
        "-   el vector ${b}$ está formado por la lista de números: 1, 2, 1, 0, 0.01,  $\\sqrt 2$\n",
        "-   súmelos"
      ]
    },
    {
      "cell_type": "code",
      "source": [
        "pi=math.pi\n",
        "a = Vector([1,4,9,2,-5,pi])\n",
        "b = Vector([1,2,1,0,0.01,sqrt(2)])\n",
        "print(latex(a+b))"
      ],
      "metadata": {
        "id": "Tt21mEBdNJeG",
        "outputId": "9070d5ee-093f-4e01-890e-59d9cc2c4201",
        "colab": {
          "base_uri": "https://localhost:8080/"
        }
      },
      "execution_count": 12,
      "outputs": [
        {
          "output_type": "stream",
          "name": "stdout",
          "text": [
            "\\begin{pmatrix}2\\\\ 6\\\\ 10\\\\ 2\\\\ -4.99\\\\ 4.55580621596289\\end{pmatrix}\n"
          ]
        }
      ]
    },
    {
      "cell_type": "markdown",
      "source": [
        "\\begin{pmatrix}2\\\\ 6\\\\ 10\\\\ 2\\\\ -4.99\\\\ 4.55580621596289\\end{pmatrix}"
      ],
      "metadata": {
        "id": "AjKdFzMiNPjk"
      }
    },
    {
      "cell_type": "markdown",
      "metadata": {
        "id": "6FIT3apxOYdq"
      },
      "source": [
        "2. Proporcione ejemplos de matrices 3 por 3 no nulas de los siguientes\n",
        "tipos de matrices:\n",
        "\n",
        "-   Una matriz diagonal\n",
        "\n"
      ]
    },
    {
      "cell_type": "markdown",
      "metadata": {
        "id": "WMMsUBTtOYdq"
      },
      "source": [
        "-   Una matriz simétrica\n",
        "\n"
      ]
    },
    {
      "cell_type": "code",
      "execution_count": 13,
      "metadata": {
        "id": "a7YW_5VFOYdq",
        "outputId": "967bc116-c94f-431f-f566-960d64ae4aae",
        "colab": {
          "base_uri": "https://localhost:8080/",
          "height": 139
        }
      },
      "outputs": [
        {
          "output_type": "display_data",
          "data": {
            "text/plain": [
              "<IPython.core.display.Latex object>"
            ],
            "text/latex": "\\left[ \\begin{array}{ccc}3&0&0\\\\0&5&0\\\\0&0&7\\\\ \\end{array} \\right]"
          },
          "metadata": {}
        },
        {
          "output_type": "display_data",
          "data": {
            "text/plain": [
              "<IPython.core.display.Latex object>"
            ],
            "text/latex": "\\left[ \\begin{array}{ccc}1&4&6\\\\4&2&2\\\\6&2&7\\\\ \\end{array} \\right]"
          },
          "metadata": {}
        }
      ],
      "source": [
        "a=Vector([3,0,0])\n",
        "b=Vector([0,5,0])\n",
        "c=Vector([0,0,7])\n",
        "B=Matrix([a,b,c])\n",
        "display(Latex(latex(B)))\n",
        "\n",
        "a=Vector([1,4,6])\n",
        "b=Vector([4,2,2])\n",
        "c=Vector([6,2,7])\n",
        "B=Matrix([a,b,c])\n",
        "display(Latex(latex(B)))"
      ]
    },
    {
      "cell_type": "markdown",
      "source": [
        "### **Diagonal**\n",
        "\\begin{array}{ccc}3&0&0\\\\0&5&0\\\\0&0&7\\\\ \\end{array}\n",
        "### **Simetrica**\n",
        "\\begin{array}{ccc}1&4&6\\\\4&2&2\\\\6&2&7\\\\ \\end{array}"
      ],
      "metadata": {
        "id": "UVjZH595PETA"
      }
    },
    {
      "cell_type": "markdown",
      "metadata": {
        "id": "roLWrzwXj1X6"
      },
      "source": [
        "3. Cree la matriz\n",
        "$${A}=\\begin{bmatrix}1&0&0&-1\\\\2&0&7&0\\\\-4&3&3&0\\\\0&3&4&1\\\\7&1&2&1\\end{bmatrix}$$\n",
        "\n"
      ]
    },
    {
      "cell_type": "markdown",
      "metadata": {
        "id": "96CPH5a_j1X9"
      },
      "source": [
        "Calcule el siguiente vector: 3 veces la primera columna de $A$\n",
        "mas la segunda columna de $A$ menos 2 veces la tercera columna\n",
        "menos 3 veces la última columna de $A$\n",
        "\n"
      ]
    },
    {
      "cell_type": "code",
      "execution_count": 14,
      "metadata": {
        "id": "DLRtU4HDOYdq",
        "outputId": "c0053c59-1719-486d-efaa-6b96860c9b94",
        "colab": {
          "base_uri": "https://localhost:8080/",
          "height": 220
        }
      },
      "outputs": [
        {
          "output_type": "display_data",
          "data": {
            "text/plain": [
              "<IPython.core.display.Latex object>"
            ],
            "text/latex": "\\left[ \\begin{array}{cccc}1&0&0&-1\\\\2&0&7&0\\\\-4&3&3&0\\\\0&3&4&1\\\\7&1&2&1\\\\ \\end{array} \\right]"
          },
          "metadata": {}
        },
        {
          "output_type": "display_data",
          "data": {
            "text/plain": [
              "<IPython.core.display.Latex object>"
            ],
            "text/latex": "\\begin{pmatrix}6\\\\ -8\\\\ -15\\\\ -8\\\\ 15\\end{pmatrix}"
          },
          "metadata": {}
        }
      ],
      "source": [
        "a=Vector([1,2,-4,0,7])\n",
        "b=Vector([0,0,3,3,1])\n",
        "c=Vector([0,7,3,4,2])\n",
        "d=Vector([-1,0,0,1,1])\n",
        "A=Matrix([a,b,c,d])\n",
        "display(Latex(latex(A)))\n",
        "a=(3*(A|1)+(A|2)-2*(A|3)-3*(A|4))\n",
        "display(Latex(latex(a)))"
      ]
    },
    {
      "cell_type": "markdown",
      "metadata": {
        "ein.tags": "worksheet-0",
        "id": "kjhE4PPdWKYI"
      },
      "source": [
        "4. Matriz por vector (combinaciones lineales de las columnas de una matriz)\n",
        "\n",
        "Considere los vectores ${x}=(1, 1, -2)$, ${y}=(1, -2, 1)$\n",
        "\n",
        "y\n",
        "${z}=(-2, 1, 1)$ y verifique que\n",
        "$2{x}+2{y}+2{z}={0}$\n",
        "\n",
        "que resultado da : $4x+4y+4z$\n",
        "\n",
        "y que resultado da:  $-3x-3y-3z$"
      ]
    },
    {
      "cell_type": "code",
      "source": [
        "import numpy as np\n",
        "\n",
        "# Definir los vectores x, y, z\n",
        "x = Vector([1, 1, -2])\n",
        "y = Vector([1, -2, 1])\n",
        "z = Vector([-2, 1, 1])\n",
        "result1 = 2*x + 2*y + 2*z\n",
        "result2 = 4*x + 4*y + 4*z\n",
        "result3 = -3*x - 3*y - 3*z\n",
        "print(\"Resultado de 2x + 2y + 2z:\", result1)\n",
        "print(\"Resultado de 4x + 4y + 4z:\", result2)\n",
        "print(\"Resultado de -3x - 3y - 3z:\", result3)"
      ],
      "metadata": {
        "id": "AvXJRrWVP2Xe",
        "outputId": "f4319eea-69b2-4e1c-d120-3be7fc6f27d0",
        "colab": {
          "base_uri": "https://localhost:8080/"
        }
      },
      "execution_count": 24,
      "outputs": [
        {
          "output_type": "stream",
          "name": "stdout",
          "text": [
            "Resultado de 2x + 2y + 2z: (0, 0, 0,)\n",
            "Resultado de 4x + 4y + 4z: (0, 0, 0,)\n",
            "Resultado de -3x - 3y - 3z: (0, 0, 0,)\n"
          ]
        }
      ]
    },
    {
      "cell_type": "markdown",
      "source": [
        "Resultado de 2x + 2y + 2z: [0 0 0]\n",
        "Resultado de 4x + 4y + 4z: [0 0 0]\n",
        "Resultado de -3x - 3y - 3z: [0 0 0]"
      ],
      "metadata": {
        "id": "W9i_i7nORbiS"
      }
    },
    {
      "cell_type": "markdown",
      "metadata": {
        "ein.tags": "worksheet-0",
        "id": "_38hNp-wcDuB"
      },
      "source": [
        "5. Escribe una matriz C del mismo orden que A y verifica que\n",
        "$$\n",
        "({A}{C})^T={C}^T{A}^T\n",
        "$$"
      ]
    },
    {
      "cell_type": "code",
      "source": [
        "a=Vector([4,6,6,3,1])\n",
        "b=Vector([7,7,9,5,5])\n",
        "c=Vector([9,65,10,6,2])\n",
        "d=Vector([-8,6,9,7,8])\n",
        "e=Vector([1,3,5,6,6])\n",
        "C=Matrix([a,b,c,d,e])\n",
        "display(Latex(latex(C)))\n",
        "display(Latex(latex(~A*~C)))"
      ],
      "metadata": {
        "id": "frH6ZOYnmErd",
        "outputId": "a12de0cf-58fe-4faf-d51b-1a979f69a56f",
        "colab": {
          "base_uri": "https://localhost:8080/",
          "height": 200
        }
      },
      "execution_count": 15,
      "outputs": [
        {
          "output_type": "display_data",
          "data": {
            "text/plain": [
              "<IPython.core.display.Latex object>"
            ],
            "text/latex": "\\left[ \\begin{array}{ccccc}4&7&9&-8&1\\\\6&7&65&6&3\\\\6&9&10&9&5\\\\3&5&6&7&6\\\\1&5&2&8&6\\\\ \\end{array} \\right]"
          },
          "metadata": {}
        },
        {
          "output_type": "display_data",
          "data": {
            "text/plain": [
              "<IPython.core.display.Latex object>"
            ],
            "text/latex": "\\left[ \\begin{array}{ccccc}-11&-219&19&31&45\\\\4&216&62&45&36\\\\46&274&139&93&85\\\\-11&3&8&10&13\\\\ \\end{array} \\right]"
          },
          "metadata": {}
        }
      ]
    },
    {
      "cell_type": "markdown",
      "metadata": {
        "ein.tags": "worksheet-0",
        "id": "Hin_mRv6cDtt"
      },
      "source": [
        "6. Verifique que\n",
        "$\n",
        "{A}{I}={A}\n",
        "$\n",
        "y que\n",
        "$\n",
        "{I}{A}={A}\n",
        "$"
      ]
    },
    {
      "cell_type": "code",
      "execution_count": 16,
      "metadata": {
        "autoscroll": false,
        "ein.hycell": false,
        "ein.tags": "worksheet-0",
        "id": "8dfGpxIdcDtt",
        "outputId": "01b626e7-9a8a-4def-b377-ee491891349d",
        "colab": {
          "base_uri": "https://localhost:8080/",
          "height": 220
        }
      },
      "outputs": [
        {
          "output_type": "display_data",
          "data": {
            "text/plain": [
              "<IPython.core.display.Latex object>"
            ],
            "text/latex": "\\left[ \\begin{array}{cccc}1&0&0&-1\\\\2&0&7&0\\\\-4&3&3&0\\\\0&3&4&1\\\\7&1&2&1\\\\ \\end{array} \\right]"
          },
          "metadata": {}
        },
        {
          "output_type": "display_data",
          "data": {
            "text/plain": [
              "<IPython.core.display.Latex object>"
            ],
            "text/latex": "\\left[ \\begin{array}{cccc}1&0&0&-1\\\\2&0&7&0\\\\-4&3&3&0\\\\0&3&4&1\\\\7&1&2&1\\\\ \\end{array} \\right]"
          },
          "metadata": {}
        }
      ],
      "source": [
        "display(Latex(latex(I(5)*A)))\n",
        "display(Latex(latex(A*I(4))))"
      ]
    },
    {
      "cell_type": "markdown",
      "source": [
        "7. Producto punto\n",
        "Considere los vectores ${x}=(1, 1, -2)$, ${y}=(1, -2, 1)$\n",
        "calcula el producto punto"
      ],
      "metadata": {
        "id": "aHZ16S1peAeY"
      }
    },
    {
      "cell_type": "code",
      "source": [
        "x=Vector([1,1,-2])\n",
        "y=Vector([1,-2,1])\n",
        "punto=x*y\n",
        "print(\"Producto punto es= \")\n",
        "display(Latex(latex(punto)))"
      ],
      "metadata": {
        "id": "QPfhac1geMQK",
        "outputId": "a9d4b60f-e6a4-4a5c-e7fb-c876731049ef",
        "colab": {
          "base_uri": "https://localhost:8080/",
          "height": 55
        }
      },
      "execution_count": 19,
      "outputs": [
        {
          "output_type": "stream",
          "name": "stdout",
          "text": [
            "Producto punto es= \n"
          ]
        },
        {
          "output_type": "display_data",
          "data": {
            "text/plain": [
              "<IPython.core.display.Latex object>"
            ],
            "text/latex": "-3"
          },
          "metadata": {}
        }
      ]
    }
  ]
}