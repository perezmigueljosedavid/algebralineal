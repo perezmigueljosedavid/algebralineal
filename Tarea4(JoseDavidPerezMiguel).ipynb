{
  "nbformat": 4,
  "nbformat_minor": 0,
  "metadata": {
    "colab": {
      "provenance": [],
      "include_colab_link": true
    },
    "kernelspec": {
      "name": "python3",
      "display_name": "Python 3"
    },
    "language_info": {
      "name": "python"
    }
  },
  "cells": [
    {
      "cell_type": "markdown",
      "metadata": {
        "id": "view-in-github",
        "colab_type": "text"
      },
      "source": [
        "<a href=\"https://colab.research.google.com/github/perezmigueljosedavid/algebralineal/blob/main/Tarea4(JoseDavidPerezMiguel).ipynb\" target=\"_parent\"><img src=\"https://colab.research.google.com/assets/colab-badge.svg\" alt=\"Open In Colab\"/></a>"
      ]
    },
    {
      "cell_type": "code",
      "execution_count": 1,
      "metadata": {
        "id": "uisCXUFKkJE-",
        "colab": {
          "base_uri": "https://localhost:8080/"
        },
        "outputId": "04146972-1b8c-4f49-c050-2e26317b9e33"
      },
      "outputs": [
        {
          "output_type": "stream",
          "name": "stdout",
          "text": [
            "Collecting nacal\n",
            "  Downloading nacal-0.1.30-py3-none-any.whl (33 kB)\n",
            "Requirement already satisfied: sympy>=1.1.0 in /usr/local/lib/python3.10/dist-packages (from nacal) (1.12)\n",
            "Requirement already satisfied: mpmath>=0.19 in /usr/local/lib/python3.10/dist-packages (from sympy>=1.1.0->nacal) (1.3.0)\n",
            "Installing collected packages: nacal\n",
            "Successfully installed nacal-0.1.30\n"
          ]
        }
      ],
      "source": [
        "!pip install --target=$nb_path nacal\n",
        "from nacal import *\n",
        "from IPython.display import display, Math, Latex"
      ]
    },
    {
      "cell_type": "markdown",
      "metadata": {
        "id": "LiJ1aW_Nj1X5"
      },
      "source": [
        "### Primer ejercicio\n",
        "\n"
      ]
    },
    {
      "cell_type": "markdown",
      "metadata": {
        "id": "roLWrzwXj1X6"
      },
      "source": [
        "Cree la matriz\n",
        "$${A}=\\begin{bmatrix}1&0&0&0\\\\2&0&0&0\\\\0&3&3&0\\\\0&3&4&1\\\\0&1&2&1\\end{bmatrix}$$\n",
        "\n"
      ]
    },
    {
      "cell_type": "code",
      "source": [
        "a = Vector([1,2,0,0,0])\n",
        "b = Vector([0,0,3,3,1])\n",
        "c = Vector([0,0,3,4,2])\n",
        "d = Vector([0,0,0,1,1])\n",
        "A = Matrix([a,b,c,d])\n",
        "Latex(latex(A))"
      ],
      "metadata": {
        "id": "aptVBvt0ks39",
        "colab": {
          "base_uri": "https://localhost:8080/",
          "height": 119
        },
        "outputId": "4fe58f75-2487-4e0b-bd3f-10abf3df9a0f"
      },
      "execution_count": 2,
      "outputs": [
        {
          "output_type": "execute_result",
          "data": {
            "text/plain": [
              "<IPython.core.display.Latex object>"
            ],
            "text/latex": "\\left[ \\begin{array}{cccc}1&0&0&0\\\\2&0&0&0\\\\0&3&3&0\\\\0&3&4&1\\\\0&1&2&1\\\\ \\end{array} \\right]"
          },
          "metadata": {},
          "execution_count": 2
        }
      ]
    },
    {
      "cell_type": "markdown",
      "metadata": {
        "id": "uXXsQDPtj1X6"
      },
      "source": [
        "Cree a partir de ${A}$ una matriz cuya única columna sea la\n",
        "primera columna de ${A}$\n",
        "\n"
      ]
    },
    {
      "cell_type": "code",
      "source": [
        "A1 = Matrix([A|1])\n",
        "Latex(latex(A1))"
      ],
      "metadata": {
        "id": "4ks9WtQ2k1zI",
        "colab": {
          "base_uri": "https://localhost:8080/",
          "height": 119
        },
        "outputId": "21e50301-aa5a-4dcc-c4b8-3756c3554f90"
      },
      "execution_count": 3,
      "outputs": [
        {
          "output_type": "execute_result",
          "data": {
            "text/plain": [
              "<IPython.core.display.Latex object>"
            ],
            "text/latex": "\\left[ \\begin{array}{c}1\\\\2\\\\0\\\\0\\\\0\\\\ \\end{array} \\right]"
          },
          "metadata": {},
          "execution_count": 3
        }
      ]
    },
    {
      "cell_type": "markdown",
      "metadata": {
        "id": "M8GNqqerj1X7"
      },
      "source": [
        "Cree a partir de ${A}$ una matriz cuya única columna sea la segunda\n",
        "fila de ${A}$\n",
        "\n"
      ]
    },
    {
      "cell_type": "code",
      "source": [
        "A2 = Matrix([2|A])\n",
        "Latex(latex(A2))"
      ],
      "metadata": {
        "id": "G13H5wEAlBM-",
        "colab": {
          "base_uri": "https://localhost:8080/",
          "height": 98
        },
        "outputId": "09ae696d-9550-4b8c-b28b-869a6ffdca87"
      },
      "execution_count": 4,
      "outputs": [
        {
          "output_type": "execute_result",
          "data": {
            "text/plain": [
              "<IPython.core.display.Latex object>"
            ],
            "text/latex": "\\left[ \\begin{array}{c}2\\\\0\\\\0\\\\0\\\\ \\end{array} \\right]"
          },
          "metadata": {},
          "execution_count": 4
        }
      ]
    },
    {
      "cell_type": "markdown",
      "metadata": {
        "id": "AKjPfZxaj1X8"
      },
      "source": [
        "<div class=\"EXERCISE\">\n",
        "Cree a partir de $A$ una matriz cuya única fila sea la primera\n",
        "fila de $A$\n",
        "\n",
        "</div>\n",
        "\n"
      ]
    },
    {
      "cell_type": "code",
      "source": [
        "A3=Matrix([1|A])\n",
        "A3=~A3\n",
        "Latex(latex(A3))"
      ],
      "metadata": {
        "id": "d0omQE0rlGMW",
        "colab": {
          "base_uri": "https://localhost:8080/",
          "height": 39
        },
        "outputId": "810c574e-05a4-4a6a-a26d-70fc9420af4b"
      },
      "execution_count": 5,
      "outputs": [
        {
          "output_type": "execute_result",
          "data": {
            "text/plain": [
              "<IPython.core.display.Latex object>"
            ],
            "text/latex": "\\left[ \\begin{array}{cccc}1&0&0&0\\\\ \\end{array} \\right]"
          },
          "metadata": {},
          "execution_count": 5
        }
      ]
    },
    {
      "cell_type": "markdown",
      "metadata": {
        "id": "BaPPzRJjj1X9"
      },
      "source": [
        "### Segundo ejercicio\n",
        "\n"
      ]
    },
    {
      "cell_type": "markdown",
      "metadata": {
        "id": "96CPH5a_j1X9"
      },
      "source": [
        "Calcule el siguiente vector: 3 veces la primera columna de $A$\n",
        "menos la segunda columna de $A$ mas 2 veces la tercera columna\n",
        "menos 3 veces la última columna de $A$\n",
        "\n"
      ]
    },
    {
      "cell_type": "code",
      "source": [
        "opt=(3*A|1)-(A|2)+(2*A|3)-(3*A|4)\n",
        "Latex(latex(opt))"
      ],
      "metadata": {
        "id": "frH6ZOYnmErd",
        "colab": {
          "base_uri": "https://localhost:8080/",
          "height": 119
        },
        "outputId": "cc2914d4-f253-4628-ef6e-63b0cb7e9507"
      },
      "execution_count": 6,
      "outputs": [
        {
          "output_type": "execute_result",
          "data": {
            "text/plain": [
              "<IPython.core.display.Latex object>"
            ],
            "text/latex": "\\begin{pmatrix}3\\\\ 6\\\\ 3\\\\ 2\\\\ 0\\end{pmatrix}"
          },
          "metadata": {},
          "execution_count": 6
        }
      ]
    },
    {
      "cell_type": "markdown",
      "metadata": {
        "id": "MxEQJrEKj1X-"
      },
      "source": [
        "### Tercer ejercicio\n",
        "\n"
      ]
    },
    {
      "cell_type": "markdown",
      "metadata": {
        "id": "dsc0wXPHj1YA"
      },
      "source": [
        "Proporcione ejemplos de matrices 3 por 3 no nulas de los siguientes\n",
        "tipos de matrices:\n",
        "\n",
        "-   Una matriz diagonal\n",
        "\n"
      ]
    },
    {
      "cell_type": "code",
      "source": [
        "a=Vector([3,0,0])\n",
        "b=Vector([0,5,0])\n",
        "c=Vector([0,0,7])\n",
        "B=Matrix([a,b,c])\n",
        "Latex(latex(B))"
      ],
      "metadata": {
        "id": "T6blJI3YmQt1",
        "colab": {
          "base_uri": "https://localhost:8080/",
          "height": 78
        },
        "outputId": "011c7d3e-c344-413a-fb9e-3eb1cf390351"
      },
      "execution_count": 7,
      "outputs": [
        {
          "output_type": "execute_result",
          "data": {
            "text/plain": [
              "<IPython.core.display.Latex object>"
            ],
            "text/latex": "\\left[ \\begin{array}{ccc}3&0&0\\\\0&5&0\\\\0&0&7\\\\ \\end{array} \\right]"
          },
          "metadata": {},
          "execution_count": 7
        }
      ]
    },
    {
      "cell_type": "markdown",
      "metadata": {
        "id": "j5rXy3Waj1YA"
      },
      "source": [
        "-   Una matriz simétrica\n",
        "\n"
      ]
    },
    {
      "cell_type": "code",
      "source": [
        "a=Vector([1,4,6])\n",
        "b=Vector([4,2,2])\n",
        "c=Vector([6,2,7])\n",
        "B=Matrix([a,b,c])\n",
        "Latex(latex(B))"
      ],
      "metadata": {
        "id": "zDghbArCmQ-v",
        "colab": {
          "base_uri": "https://localhost:8080/",
          "height": 78
        },
        "outputId": "8f16ea7a-6b12-4460-8501-a527d05587ae"
      },
      "execution_count": 8,
      "outputs": [
        {
          "output_type": "execute_result",
          "data": {
            "text/plain": [
              "<IPython.core.display.Latex object>"
            ],
            "text/latex": "\\left[ \\begin{array}{ccc}1&4&6\\\\4&2&2\\\\6&2&7\\\\ \\end{array} \\right]"
          },
          "metadata": {},
          "execution_count": 8
        }
      ]
    },
    {
      "cell_type": "markdown",
      "metadata": {
        "id": "UHEAMjHQj1YB"
      },
      "source": [
        "-   Una matriz triangular superior (es decir, que todos los elementos\n",
        "    por *debajo* de la diagonal son nulos).\n",
        "\n"
      ]
    },
    {
      "cell_type": "code",
      "source": [
        "a=Vector([1,0,0])\n",
        "b=Vector([8,5,0])\n",
        "c=Vector([5,3,5])\n",
        "B=Matrix([a,b,c])\n",
        "Latex(latex(B))"
      ],
      "metadata": {
        "id": "WIJVEVe2mV0E",
        "colab": {
          "base_uri": "https://localhost:8080/",
          "height": 78
        },
        "outputId": "e8ac8d36-75f0-407e-e2eb-6615699a3c17"
      },
      "execution_count": 9,
      "outputs": [
        {
          "output_type": "execute_result",
          "data": {
            "text/plain": [
              "<IPython.core.display.Latex object>"
            ],
            "text/latex": "\\left[ \\begin{array}{ccc}1&8&5\\\\0&5&3\\\\0&0&5\\\\ \\end{array} \\right]"
          },
          "metadata": {},
          "execution_count": 9
        }
      ]
    },
    {
      "cell_type": "markdown",
      "metadata": {
        "id": "3y1hiNo_j1YC"
      },
      "source": [
        "-   Una matriz antisimétrica (es decir, que su transpuesta es igual a su opuesta: $ {A}^{T}=-A $ ).\n",
        "\n"
      ]
    },
    {
      "cell_type": "code",
      "source": [
        "a=Vector([0,-1,-2])\n",
        "b=Vector([1,0,-3])\n",
        "c=Vector([2,3,0])\n",
        "B=Matrix([a,b,c])\n",
        "display(Latex(latex(~B)))\n",
        "display(Latex(latex(-B)))"
      ],
      "metadata": {
        "colab": {
          "base_uri": "https://localhost:8080/",
          "height": 139
        },
        "id": "_9hE-qBb54XP",
        "outputId": "26608213-f2ba-4959-a13b-f9527fa30f34"
      },
      "execution_count": 10,
      "outputs": [
        {
          "output_type": "display_data",
          "data": {
            "text/plain": [
              "<IPython.core.display.Latex object>"
            ],
            "text/latex": "\\left[ \\begin{array}{ccc}0&-1&-2\\\\1&0&-3\\\\2&3&0\\\\ \\end{array} \\right]"
          },
          "metadata": {}
        },
        {
          "output_type": "display_data",
          "data": {
            "text/plain": [
              "<IPython.core.display.Latex object>"
            ],
            "text/latex": "\\left[ \\begin{array}{ccc}0&-1&-2\\\\1&0&-3\\\\2&3&0\\\\ \\end{array} \\right]"
          },
          "metadata": {}
        }
      ]
    },
    {
      "cell_type": "markdown",
      "source": [
        "### Cuarto ejercicio"
      ],
      "metadata": {
        "id": "Y-n7DWXJn7Zk"
      }
    },
    {
      "cell_type": "markdown",
      "metadata": {
        "ein.tags": "worksheet-0",
        "id": "053nn7kNnOXz"
      },
      "source": [
        "# Propiedades del producto Matriz por vector\n",
        "\n",
        "Genere una matriz $A$ (con el número de filas y columnas que\n",
        "desee) y dos vectores ${b}$ y ${c}$ con tantos componentes\n",
        "como columnas tenga $A$."
      ]
    },
    {
      "cell_type": "code",
      "execution_count": 11,
      "metadata": {
        "autoscroll": false,
        "ein.hycell": false,
        "ein.tags": "worksheet-0",
        "id": "MU-2x1n8Vpzq",
        "colab": {
          "base_uri": "https://localhost:8080/",
          "height": 119
        },
        "outputId": "db2c6615-b02f-49a0-cef1-133914884f55"
      },
      "outputs": [
        {
          "output_type": "execute_result",
          "data": {
            "text/plain": [
              "<IPython.core.display.Latex object>"
            ],
            "text/latex": "\\left[ \\begin{array}{cccc}1&7&8&9\\\\2&5&9&2\\\\3&3&3&6\\\\4&3&4&1\\\\5&1&2&1\\\\ \\end{array} \\right]"
          },
          "metadata": {},
          "execution_count": 11
        }
      ],
      "source": [
        "# Defina una matriz A\n",
        "a = Vector([1,2,3,4,5])\n",
        "b = Vector([7,5,3,3,1])\n",
        "c = Vector([8,9,3,4,2])\n",
        "d = Vector([9,2,6,1,1])\n",
        "A = Matrix([a,b,c,d])\n",
        "Latex(latex(A))\n"
      ]
    },
    {
      "cell_type": "code",
      "execution_count": 13,
      "metadata": {
        "autoscroll": false,
        "ein.hycell": false,
        "ein.tags": "worksheet-0",
        "id": "uoVFYfjqVpzq"
      },
      "outputs": [],
      "source": [
        "# Defina el vector b con tantos componentes como columnas tenga la matriz A\n",
        "b = Vector([3,8,9,1])\n"
      ]
    },
    {
      "cell_type": "code",
      "execution_count": 17,
      "metadata": {
        "autoscroll": false,
        "ein.hycell": false,
        "ein.tags": "worksheet-0",
        "id": "5HbLkf1LVpzr"
      },
      "outputs": [],
      "source": [
        "# Defina el vector c con tantos componentes como el vector b\n",
        "c = Vector([8,4,9,4])"
      ]
    },
    {
      "cell_type": "markdown",
      "metadata": {
        "ein.tags": "worksheet-0",
        "id": "HQu3l79dVpzr"
      },
      "source": [
        "Y ahora verifique las propiedades vistas en el curso (en todos los\n",
        "casos, verifique sus ejemplos también con lapiz y papel... recuerde\n",
        "que primero se realizan las operaciones encerradas entre paréntesis).\n",
        "\n",
        "$$ A({b}+{c}) = A{b} + A{c} $$"
      ]
    },
    {
      "cell_type": "code",
      "execution_count": 18,
      "metadata": {
        "autoscroll": false,
        "ein.hycell": false,
        "ein.tags": "worksheet-0",
        "id": "hOUqYCBHVpzr",
        "colab": {
          "base_uri": "https://localhost:8080/",
          "height": 119
        },
        "outputId": "ef25842b-7873-4d5d-ef73-e509e67b9e89"
      },
      "outputs": [
        {
          "output_type": "execute_result",
          "data": {
            "text/plain": [
              "<IPython.core.display.Latex object>"
            ],
            "text/latex": "\\begin{pmatrix}284\\\\ 254\\\\ 153\\\\ 157\\\\ 108\\end{pmatrix}"
          },
          "metadata": {},
          "execution_count": 18
        }
      ],
      "source": [
        "# escriba aquí la parte izquierda de la ecuación: A*(b+c)\n",
        "Latex(latex(A*(b+c)))"
      ]
    },
    {
      "cell_type": "code",
      "execution_count": 19,
      "metadata": {
        "autoscroll": false,
        "ein.hycell": false,
        "ein.tags": "worksheet-0",
        "id": "86RAGkgoVpzs",
        "colab": {
          "base_uri": "https://localhost:8080/",
          "height": 119
        },
        "outputId": "57ece250-30e4-4d46-c981-4b8db94ad14a"
      },
      "outputs": [
        {
          "output_type": "execute_result",
          "data": {
            "text/plain": [
              "<IPython.core.display.Latex object>"
            ],
            "text/latex": "\\begin{pmatrix}284\\\\ 254\\\\ 153\\\\ 157\\\\ 108\\end{pmatrix}"
          },
          "metadata": {},
          "execution_count": 19
        }
      ],
      "source": [
        "# escriba aquí la parte derecha de la ecuación\n",
        "Latex(latex((A*b)+(A*c)))\n"
      ]
    },
    {
      "cell_type": "markdown",
      "source": [
        "### Quinto ejercicio"
      ],
      "metadata": {
        "id": "u0ri5khNnCKl"
      }
    },
    {
      "cell_type": "markdown",
      "metadata": {
        "ein.tags": "worksheet-0",
        "id": "9pvYQ32mVpzs"
      },
      "source": [
        "Decida un valor para el escalar $\\lambda$ y verifique que\n",
        "$$ A(\\lambda{b}) = \\lambda(A{b})$$"
      ]
    },
    {
      "cell_type": "code",
      "execution_count": 22,
      "metadata": {
        "autoscroll": false,
        "ein.hycell": false,
        "ein.tags": "worksheet-0",
        "id": "E4IN_Yy2Vpzs",
        "colab": {
          "base_uri": "https://localhost:8080/",
          "height": 119
        },
        "outputId": "4d5ad3f9-aef3-4503-c85f-04cad9028af5"
      },
      "outputs": [
        {
          "output_type": "execute_result",
          "data": {
            "text/plain": [
              "<IPython.core.display.Latex object>"
            ],
            "text/latex": "\\begin{pmatrix}1120\\\\ 1032\\\\ 528\\\\ 584\\\\ 336\\end{pmatrix}"
          },
          "metadata": {},
          "execution_count": 22
        }
      ],
      "source": [
        "# escriba aquí la parte izquierda de la ecuación\n",
        "esc_lambda = 8\n",
        "Latex(latex(A*(esc_lambda*b)))"
      ]
    },
    {
      "cell_type": "code",
      "execution_count": 21,
      "metadata": {
        "autoscroll": false,
        "ein.hycell": false,
        "ein.tags": "worksheet-0",
        "id": "Ceudy6FmVpzt",
        "colab": {
          "base_uri": "https://localhost:8080/",
          "height": 119
        },
        "outputId": "3a30a19a-71ad-4068-e535-eba000c86019"
      },
      "outputs": [
        {
          "output_type": "execute_result",
          "data": {
            "text/plain": [
              "<IPython.core.display.Latex object>"
            ],
            "text/latex": "\\begin{pmatrix}700\\\\ 645\\\\ 330\\\\ 365\\\\ 210\\end{pmatrix}"
          },
          "metadata": {},
          "execution_count": 21
        }
      ],
      "source": [
        "# escriba aquí la parte derecha de la ecuación\n",
        "Latex(latex(esc_lambda*(A*b)))"
      ]
    },
    {
      "cell_type": "markdown",
      "metadata": {
        "ein.tags": "worksheet-0",
        "id": "OWAfF_SgVpzt"
      },
      "source": [
        "Verifique que\n",
        "$$ A(\\lambda{b}) = (\\lambda A){b}$$\n"
      ]
    },
    {
      "cell_type": "code",
      "execution_count": 23,
      "metadata": {
        "autoscroll": false,
        "ein.hycell": false,
        "ein.tags": "worksheet-0",
        "id": "ZRimSgGCVpzu",
        "colab": {
          "base_uri": "https://localhost:8080/",
          "height": 119
        },
        "outputId": "f7fb1985-1424-48de-8c86-63cf5a8dfd7e"
      },
      "outputs": [
        {
          "output_type": "execute_result",
          "data": {
            "text/plain": [
              "<IPython.core.display.Latex object>"
            ],
            "text/latex": "\\begin{pmatrix}1120\\\\ 1032\\\\ 528\\\\ 584\\\\ 336\\end{pmatrix}"
          },
          "metadata": {},
          "execution_count": 23
        }
      ],
      "source": [
        "# escriba aquí la parte derecha de la ecuación\n",
        "Latex(latex(A*(esc_lambda*b)))\n"
      ]
    },
    {
      "cell_type": "markdown",
      "metadata": {
        "ein.tags": "worksheet-0",
        "id": "YlRYLashVpzu"
      },
      "source": [
        "Compuebe que en este caso no son necesarios los paréntesis:\n",
        "$$\\lambda A{b}\\;$$ (aunque en Python siempre necesite\n",
        "escribir los símbolos de producto `*`). Pruebe a colocar el escalar en\n",
        "cualquier posición, pero mantenga la matriz a la izquierda del vector."
      ]
    },
    {
      "cell_type": "markdown",
      "source": [],
      "metadata": {
        "id": "oT8XkiCn6_Ho"
      }
    },
    {
      "cell_type": "code",
      "execution_count": 24,
      "metadata": {
        "autoscroll": false,
        "ein.hycell": false,
        "ein.tags": "worksheet-0",
        "id": "8mmZwTxMVpzv",
        "colab": {
          "base_uri": "https://localhost:8080/",
          "height": 119
        },
        "outputId": "46944853-5956-4739-9a75-35693e57606e"
      },
      "outputs": [
        {
          "output_type": "execute_result",
          "data": {
            "text/plain": [
              "<IPython.core.display.Latex object>"
            ],
            "text/latex": "\\begin{pmatrix}1120\\\\ 1032\\\\ 528\\\\ 584\\\\ 336\\end{pmatrix}"
          },
          "metadata": {},
          "execution_count": 24
        }
      ],
      "source": [
        "# Por ejemplo 3*A*b, o A*3*b, o A*b*3\n",
        "Latex(latex(esc_lambda*A*b))\n"
      ]
    },
    {
      "cell_type": "markdown",
      "source": [
        "### Sexto ejercicio"
      ],
      "metadata": {
        "id": "nRqO8LxBoNSI"
      }
    },
    {
      "cell_type": "markdown",
      "metadata": {
        "ein.tags": "worksheet-0",
        "id": "VSZ8vItpVpzv"
      },
      "source": [
        "Genere una matriz ${B}$ del mismo orden que $A$"
      ]
    },
    {
      "cell_type": "code",
      "execution_count": 25,
      "metadata": {
        "autoscroll": false,
        "ein.hycell": false,
        "ein.tags": "worksheet-0",
        "id": "NkFmEED_Vpzw",
        "colab": {
          "base_uri": "https://localhost:8080/",
          "height": 119
        },
        "outputId": "65300024-3d2b-48dc-8726-31fd79c30648"
      },
      "outputs": [
        {
          "output_type": "execute_result",
          "data": {
            "text/plain": [
              "<IPython.core.display.Latex object>"
            ],
            "text/latex": "\\left[ \\begin{array}{cccc}7&1&9&8\\\\5&2&2&9\\\\3&3&6&3\\\\3&4&1&4\\\\1&5&1&2\\\\ \\end{array} \\right]"
          },
          "metadata": {},
          "execution_count": 25
        }
      ],
      "source": [
        "a1 = Vector([1,2,3,4,5])\n",
        "b1 = Vector([7,5,3,3,1])\n",
        "c1 = Vector([8,9,3,4,2])\n",
        "d1 = Vector([9,2,6,1,1])\n",
        "B = Matrix([b1,a1,d1,c1])\n",
        "Latex(latex(B))"
      ]
    },
    {
      "cell_type": "markdown",
      "metadata": {
        "ein.tags": "worksheet-0",
        "id": "nqSTOOY0Vpzw"
      },
      "source": [
        "Verifique que\n",
        "\n",
        "$$ (A+B){c} = A{c} + B{c}$$"
      ]
    },
    {
      "cell_type": "code",
      "execution_count": 26,
      "metadata": {
        "autoscroll": false,
        "ein.hycell": false,
        "ein.tags": "worksheet-0",
        "id": "c1YZo_1NVpzx",
        "colab": {
          "base_uri": "https://localhost:8080/",
          "height": 136
        },
        "outputId": "c767a5a7-df6c-42a5-fbe2-d3c857a9e82f"
      },
      "outputs": [
        {
          "output_type": "display_data",
          "data": {
            "text/plain": [
              "<IPython.core.display.Latex object>"
            ],
            "text/latex": "\\begin{pmatrix}317\\\\ 227\\\\ 189\\\\ 149\\\\ 111\\end{pmatrix}"
          },
          "metadata": {}
        },
        {
          "output_type": "stream",
          "name": "stdout",
          "text": [
            "No funciona sin parentesis\n"
          ]
        }
      ],
      "source": [
        "# escriba aquí la parte izquierda de la ecuación (¿funciona sin paréntesis?)\n",
        "display(Latex(latex((A+B)*c)))\n",
        "print(\"No funciona sin parentesis\")"
      ]
    },
    {
      "cell_type": "code",
      "execution_count": 27,
      "metadata": {
        "autoscroll": false,
        "ein.hycell": false,
        "ein.tags": "worksheet-0",
        "id": "2utRvpmSVpzx",
        "colab": {
          "base_uri": "https://localhost:8080/",
          "height": 119
        },
        "outputId": "8f2541ee-f0ab-4548-9fa0-1645a734fc68"
      },
      "outputs": [
        {
          "output_type": "display_data",
          "data": {
            "text/plain": [
              "<IPython.core.display.Latex object>"
            ],
            "text/latex": "\\begin{pmatrix}317\\\\ 227\\\\ 189\\\\ 149\\\\ 111\\end{pmatrix}"
          },
          "metadata": {}
        }
      ],
      "source": [
        "# escriba aquí la parte derecha de la ecuación\n",
        "display(Latex(latex((A*c)+(B*c))))"
      ]
    },
    {
      "cell_type": "code",
      "source": [],
      "metadata": {
        "id": "hcm-tMzWnkEd"
      },
      "execution_count": null,
      "outputs": []
    },
    {
      "cell_type": "markdown",
      "metadata": {
        "ein.tags": "worksheet-0",
        "id": "545Y5L3qVpz4"
      },
      "source": [
        "# Dos propiedades de la transposición\n",
        "\n",
        "Recuerde que `~A` es la transpuesta de `A`.\n",
        "\n",
        "Verfique que\n",
        "$$\n",
        "(A+B)^T=A^{T}+B^{T}\n",
        "$$"
      ]
    },
    {
      "cell_type": "code",
      "execution_count": 28,
      "metadata": {
        "autoscroll": false,
        "ein.hycell": false,
        "ein.tags": "worksheet-0",
        "id": "cQKD0ad-Vpz5",
        "colab": {
          "base_uri": "https://localhost:8080/",
          "height": 98
        },
        "outputId": "9a3afb02-e9ea-4dbd-f723-28cd5269d923"
      },
      "outputs": [
        {
          "output_type": "execute_result",
          "data": {
            "text/plain": [
              "<IPython.core.display.Latex object>"
            ],
            "text/latex": "\\left[ \\begin{array}{ccccc}8&7&6&7&6\\\\8&7&6&7&6\\\\17&11&9&5&3\\\\17&11&9&5&3\\\\ \\end{array} \\right]"
          },
          "metadata": {},
          "execution_count": 28
        }
      ],
      "source": [
        "# escriba aquí la parte izquierda de la ecuación: ~(A + B)\n",
        "Latex(latex(~(A+B)))\n"
      ]
    },
    {
      "cell_type": "code",
      "execution_count": 29,
      "metadata": {
        "autoscroll": false,
        "ein.hycell": false,
        "ein.tags": "worksheet-0",
        "id": "P8MSW33aVpz6",
        "colab": {
          "base_uri": "https://localhost:8080/",
          "height": 98
        },
        "outputId": "48d03d8c-be2d-4b14-a878-548b16b543db"
      },
      "outputs": [
        {
          "output_type": "execute_result",
          "data": {
            "text/plain": [
              "<IPython.core.display.Latex object>"
            ],
            "text/latex": "\\left[ \\begin{array}{ccccc}8&7&6&7&6\\\\8&7&6&7&6\\\\17&11&9&5&3\\\\17&11&9&5&3\\\\ \\end{array} \\right]"
          },
          "metadata": {},
          "execution_count": 29
        }
      ],
      "source": [
        "# escriba aquí la parte derecha de la ecuación\n",
        "Latex(latex(~A+~B))"
      ]
    },
    {
      "cell_type": "markdown",
      "metadata": {
        "ein.tags": "worksheet-0",
        "id": "g2A04WcFVpz6"
      },
      "source": [
        "¿Necesitamos usar paréntesis para el lado izquierdo? ¿Y para el derecho?"
      ]
    },
    {
      "cell_type": "markdown",
      "metadata": {
        "ein.tags": "worksheet-0",
        "id": "ZcOfdLECVpz7"
      },
      "source": [
        "Decida un valor para $\\lambda$ y verfique que\n",
        "$$\n",
        "(\\lambda A)^T=\\lambda(A^{T})\n",
        "$$"
      ]
    },
    {
      "cell_type": "code",
      "execution_count": 30,
      "metadata": {
        "autoscroll": false,
        "ein.hycell": false,
        "ein.tags": "worksheet-0",
        "id": "SVar9B-6Vpz7",
        "colab": {
          "base_uri": "https://localhost:8080/",
          "height": 98
        },
        "outputId": "4026cd21-3f78-4218-a898-6b115e98a3cf"
      },
      "outputs": [
        {
          "output_type": "execute_result",
          "data": {
            "text/plain": [
              "<IPython.core.display.Latex object>"
            ],
            "text/latex": "\\left[ \\begin{array}{ccccc}5&10&15&20&25\\\\35&25&15&15&5\\\\40&45&15&20&10\\\\45&10&30&5&5\\\\ \\end{array} \\right]"
          },
          "metadata": {},
          "execution_count": 30
        }
      ],
      "source": [
        "# escriba aquí la parte izquierda de la ecuación:\n",
        "lamb=5\n",
        "Latex(latex(~(lamb*A)))\n"
      ]
    },
    {
      "cell_type": "code",
      "execution_count": 31,
      "metadata": {
        "autoscroll": false,
        "ein.hycell": false,
        "ein.tags": "worksheet-0",
        "id": "06Eys9o2Vpz8",
        "colab": {
          "base_uri": "https://localhost:8080/",
          "height": 98
        },
        "outputId": "2c2e2477-3d2c-46d4-90e7-376760b64cf2"
      },
      "outputs": [
        {
          "output_type": "execute_result",
          "data": {
            "text/plain": [
              "<IPython.core.display.Latex object>"
            ],
            "text/latex": "\\left[ \\begin{array}{ccccc}5&10&15&20&25\\\\35&25&15&15&5\\\\40&45&15&20&10\\\\45&10&30&5&5\\\\ \\end{array} \\right]"
          },
          "metadata": {},
          "execution_count": 31
        }
      ],
      "source": [
        "# escriba aquí la parte derecha de la ecuación\n",
        "Latex(latex(lamb*~A))\n"
      ]
    }
  ]
}