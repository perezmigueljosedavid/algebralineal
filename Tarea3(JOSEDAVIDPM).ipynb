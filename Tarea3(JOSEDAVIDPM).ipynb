{
  "nbformat": 4,
  "nbformat_minor": 0,
  "metadata": {
    "colab": {
      "provenance": [],
      "authorship_tag": "ABX9TyORqrEswD6J742pe4FgsrB5",
      "include_colab_link": true
    },
    "kernelspec": {
      "name": "python3",
      "display_name": "Python 3"
    },
    "language_info": {
      "name": "python"
    }
  },
  "cells": [
    {
      "cell_type": "markdown",
      "metadata": {
        "id": "view-in-github",
        "colab_type": "text"
      },
      "source": [
        "<a href=\"https://colab.research.google.com/github/perezmigueljosedavid/algebralineal/blob/main/Tarea3(JOSEDAVIDPM).ipynb\" target=\"_parent\"><img src=\"https://colab.research.google.com/assets/colab-badge.svg\" alt=\"Open In Colab\"/></a>"
      ]
    },
    {
      "cell_type": "code",
      "source": [
        "!pip install --target=$nb_path nacal\n",
        "from nacal import *\n",
        "from IPython.display import display, Math, Latex"
      ],
      "metadata": {
        "colab": {
          "base_uri": "https://localhost:8080/"
        },
        "id": "EGdGcfHUEC-a",
        "outputId": "3aac1625-8019-4b77-ffe1-3825c6cb2541"
      },
      "execution_count": null,
      "outputs": [
        {
          "output_type": "stream",
          "name": "stdout",
          "text": [
            "Collecting nacal\n",
            "  Downloading nacal-0.1.30-py3-none-any.whl (33 kB)\n",
            "Requirement already satisfied: sympy>=1.1.0 in /usr/local/lib/python3.10/dist-packages (from nacal) (1.12)\n",
            "Requirement already satisfied: mpmath>=0.19 in /usr/local/lib/python3.10/dist-packages (from sympy>=1.1.0->nacal) (1.3.0)\n",
            "Installing collected packages: nacal\n",
            "Successfully installed nacal-0.1.30\n"
          ]
        }
      ]
    },
    {
      "cell_type": "markdown",
      "source": [
        "#TAREA 3"
      ],
      "metadata": {
        "id": "8Rnl7TJlzSp5"
      }
    },
    {
      "cell_type": "code",
      "execution_count": null,
      "metadata": {
        "colab": {
          "base_uri": "https://localhost:8080/",
          "height": 78
        },
        "id": "qY-6nH8NzDvQ",
        "outputId": "d0a84ab3-2b05-43bb-aa73-010e9acb316f"
      },
      "outputs": [
        {
          "output_type": "display_data",
          "data": {
            "text/plain": [
              "<IPython.core.display.Latex object>"
            ],
            "text/latex": "\\left[ \\begin{array}{ccc}1&4&7\\\\2&5&8\\\\3&6&9\\\\ \\end{array} \\right]"
          },
          "metadata": {}
        }
      ],
      "source": [
        "a = Vector([1,2,3])\n",
        "b = Vector([4,5,6])\n",
        "c = Vector([7,8,9])\n",
        "A = Matrix([a,b,c])\n",
        "B = Matrix([c,b,a])\n",
        "display(Latex(latex(A)))"
      ]
    },
    {
      "cell_type": "markdown",
      "source": [
        "### EJERCICIO 1\n",
        "Propiedades de linealidad en el vector A ( b + c )= Ab + Ac"
      ],
      "metadata": {
        "id": "LP08skQVzpgz"
      }
    },
    {
      "cell_type": "code",
      "source": [
        "\n",
        "display(Latex(latex(A*(b+c))))\n",
        "display(Latex(latex((A*b)+(A*c))))"
      ],
      "metadata": {
        "colab": {
          "base_uri": "https://localhost:8080/",
          "height": 139
        },
        "id": "BhBS7OSS0Kt2",
        "outputId": "ffe71d76-1e03-44d6-b561-b1151ead7cde"
      },
      "execution_count": null,
      "outputs": [
        {
          "output_type": "display_data",
          "data": {
            "text/plain": [
              "<IPython.core.display.Latex object>"
            ],
            "text/latex": "\\begin{pmatrix}168\\\\ 207\\\\ 246\\end{pmatrix}"
          },
          "metadata": {}
        },
        {
          "output_type": "display_data",
          "data": {
            "text/plain": [
              "<IPython.core.display.Latex object>"
            ],
            "text/latex": "\\begin{pmatrix}168\\\\ 207\\\\ 246\\end{pmatrix}"
          },
          "metadata": {}
        }
      ]
    },
    {
      "cell_type": "markdown",
      "source": [
        "## ***Prop.verdadera***"
      ],
      "metadata": {
        "id": "2eBaW7tH0OwJ"
      }
    },
    {
      "cell_type": "markdown",
      "source": [
        "### EJERCICIO 2\n",
        "Propiedades de linealidad en el vector A(λb)=λ(Ab)\n",
        "\n",
        "Siendo el escalar el número 5:"
      ],
      "metadata": {
        "id": "0wYgZ2Mp0uWl"
      }
    },
    {
      "cell_type": "code",
      "source": [
        "lamb = 4\n",
        "display(Latex(latex(A*(lamb*b))))\n",
        "display(Latex(latex(lamb*(A*b))))"
      ],
      "metadata": {
        "colab": {
          "base_uri": "https://localhost:8080/",
          "height": 139
        },
        "id": "YGXxmp6q086M",
        "outputId": "567723cc-e9e2-4f7f-d6e5-7801166e40e0"
      },
      "execution_count": 16,
      "outputs": [
        {
          "output_type": "display_data",
          "data": {
            "text/plain": [
              "<IPython.core.display.Latex object>"
            ],
            "text/latex": "\\begin{pmatrix}264\\\\ 324\\\\ 384\\end{pmatrix}"
          },
          "metadata": {}
        },
        {
          "output_type": "display_data",
          "data": {
            "text/plain": [
              "<IPython.core.display.Latex object>"
            ],
            "text/latex": "\\begin{pmatrix}264\\\\ 324\\\\ 384\\end{pmatrix}"
          },
          "metadata": {}
        }
      ]
    },
    {
      "cell_type": "markdown",
      "source": [
        "## ***Prop.verdadera***"
      ],
      "metadata": {
        "id": "7LcAFK1J0_Tj"
      }
    },
    {
      "cell_type": "markdown",
      "source": [
        "## Ejercicio 3\n",
        "A(Bc)=[A(B|1); . . . A(B|n)]c"
      ],
      "metadata": {
        "id": "0aYzxeZUzxqw"
      }
    },
    {
      "cell_type": "code",
      "source": [
        "display(Latex(latex(A*(B*c))))"
      ],
      "metadata": {
        "colab": {
          "base_uri": "https://localhost:8080/",
          "height": 78
        },
        "id": "EX7Fd8cU0I4R",
        "outputId": "5bc29db7-5c07-4d24-c981-0b69cf67b3bf"
      },
      "execution_count": 14,
      "outputs": [
        {
          "output_type": "display_data",
          "data": {
            "text/plain": [
              "<IPython.core.display.Latex object>"
            ],
            "text/latex": "\\begin{pmatrix}1512\\\\ 1854\\\\ 2196\\end{pmatrix}"
          },
          "metadata": {}
        }
      ]
    },
    {
      "cell_type": "markdown",
      "source": [
        "### EJERCICIO 4\n",
        "Propiedades de linealidad en la matriz (A+B)c=Ac+Bc"
      ],
      "metadata": {
        "id": "E4ZOytkK1D9R"
      }
    },
    {
      "cell_type": "code",
      "source": [
        "display(Latex(latex((A+B)*c)))\n",
        "display(Latex(latex((A*c)+(B*c))))"
      ],
      "metadata": {
        "id": "VOVv7uXB18I7",
        "colab": {
          "base_uri": "https://localhost:8080/",
          "height": 139
        },
        "outputId": "c26982a8-742d-4d60-e37f-a728cf9d2231"
      },
      "execution_count": 13,
      "outputs": [
        {
          "output_type": "display_data",
          "data": {
            "text/plain": [
              "<IPython.core.display.Latex object>"
            ],
            "text/latex": "\\begin{pmatrix}192\\\\ 240\\\\ 288\\end{pmatrix}"
          },
          "metadata": {}
        },
        {
          "output_type": "display_data",
          "data": {
            "text/plain": [
              "<IPython.core.display.Latex object>"
            ],
            "text/latex": "\\begin{pmatrix}192\\\\ 240\\\\ 288\\end{pmatrix}"
          },
          "metadata": {}
        }
      ]
    },
    {
      "cell_type": "markdown",
      "source": [
        "## Ejercicio 5\n",
        "(λA)b = λ(Ab)"
      ],
      "metadata": {
        "id": "5tmGoKeS0PUb"
      }
    },
    {
      "cell_type": "code",
      "source": [
        "lamb = 2\n",
        "display(Latex(latex((lamb*A)*b)))\n",
        "display(Latex(latex(lamb*(A*b))))"
      ],
      "metadata": {
        "colab": {
          "base_uri": "https://localhost:8080/",
          "height": 139
        },
        "id": "58vYGsAA0ZO2",
        "outputId": "0863acf2-6649-44a8-df09-e26a8e8cd702"
      },
      "execution_count": 15,
      "outputs": [
        {
          "output_type": "display_data",
          "data": {
            "text/plain": [
              "<IPython.core.display.Latex object>"
            ],
            "text/latex": "\\begin{pmatrix}132\\\\ 162\\\\ 192\\end{pmatrix}"
          },
          "metadata": {}
        },
        {
          "output_type": "display_data",
          "data": {
            "text/plain": [
              "<IPython.core.display.Latex object>"
            ],
            "text/latex": "\\begin{pmatrix}132\\\\ 162\\\\ 192\\end{pmatrix}"
          },
          "metadata": {}
        }
      ]
    }
  ]
}