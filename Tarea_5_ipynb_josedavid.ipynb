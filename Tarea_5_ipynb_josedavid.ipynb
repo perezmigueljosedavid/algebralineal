{
  "nbformat": 4,
  "nbformat_minor": 0,
  "metadata": {
    "colab": {
      "provenance": [],
      "include_colab_link": true
    },
    "kernelspec": {
      "name": "python3",
      "display_name": "Python 3"
    },
    "language_info": {
      "name": "python"
    }
  },
  "cells": [
    {
      "cell_type": "markdown",
      "metadata": {
        "id": "view-in-github",
        "colab_type": "text"
      },
      "source": [
        "<a href=\"https://colab.research.google.com/github/perezmigueljosedavid/algebralineal/blob/main/Tarea_5_ipynb_josedavid.ipynb\" target=\"_parent\"><img src=\"https://colab.research.google.com/assets/colab-badge.svg\" alt=\"Open In Colab\"/></a>"
      ]
    },
    {
      "cell_type": "code",
      "execution_count": 8,
      "metadata": {
        "colab": {
          "base_uri": "https://localhost:8080/"
        },
        "id": "T9mcRMDLVpzh",
        "outputId": "f2d9e1b5-e7ec-40e3-925c-b105ddd023c5"
      },
      "outputs": [
        {
          "output_type": "stream",
          "name": "stdout",
          "text": [
            "Requirement already satisfied: nacal in /usr/local/lib/python3.10/dist-packages (0.2.1)\n",
            "Requirement already satisfied: sympy>=1.1.0 in /usr/local/lib/python3.10/dist-packages (from nacal) (1.12.1)\n",
            "Requirement already satisfied: mpmath<1.4.0,>=1.1.0 in /usr/local/lib/python3.10/dist-packages (from sympy>=1.1.0->nacal) (1.3.0)\n"
          ]
        }
      ],
      "source": [
        "!pip install --target=$nb_path nacal\n",
        "from nacal import *"
      ]
    },
    {
      "cell_type": "markdown",
      "source": [
        "1. Para la siguiente matriz $$\\left[ \\begin{array}{cccc}3&-2&2&1\\\\1&-1&-1&-3\\\\2&1&2&4\\\\4&-4&1&2\\\\ \\end{array} \\right]$$ lleva a cabo el algoritmo de eliminación paso a paso.\n",
        "\n",
        "Escribe en una celda separada cada operacion elemental."
      ],
      "metadata": {
        "id": "hBXBxw0VcrAh"
      }
    },
    {
      "cell_type": "code",
      "source": [
        "w= Vector((3,1,1,4)); x=Vector((-2,-1,1,-4)); y= Vector((2,-1,2,1)); z= Vector((1,-3,4,2))\n",
        "M= Matrix([w,x,y,z])\n",
        "M"
      ],
      "metadata": {
        "id": "fJvD7rZMIIiX",
        "collapsed": true
      },
      "execution_count": null,
      "outputs": []
    },
    {
      "cell_type": "code",
      "source": [
        "M&T((fracc(1,3),1))"
      ],
      "metadata": {
        "id": "YFXGfWpSI60j",
        "outputId": "9ab61342-82e5-4af5-e373-c6ec83dc7029",
        "colab": {
          "base_uri": "https://localhost:8080/",
          "height": 64
        }
      },
      "execution_count": null,
      "outputs": [
        {
          "output_type": "execute_result",
          "data": {
            "text/plain": [
              "Matrix([Vector([1/3, 1/9, 1/9, 4/9]), Vector([0, 1, -5, 4]), Vector([0, -5/3, 4/3, -5/3]), Vector([0, -10/3, 11/3, 2/3])])"
            ],
            "text/html": [
              "<p style=\"text-align:center;\">$\\left[ \\begin{array}{cccc}\\frac{1}{3}&0&0&0\\\\\\frac{1}{9}&1&- \\frac{5}{3}&- \\frac{10}{3}\\\\\\frac{1}{9}&-5&\\frac{4}{3}&\\frac{11}{3}\\\\\\frac{4}{9}&4&- \\frac{5}{3}&\\frac{2}{3}\\\\ \\end{array} \\right]$</p>"
            ],
            "image/png": "$\\left[ \\begin{array}{cccc}\\frac{1}{3}&0&0&0\\\\\\frac{1}{9}&1&- \\frac{5}{3}&- \\frac{10}{3}\\\\\\frac{1}{9}&-5&\\frac{4}{3}&\\frac{11}{3}\\\\\\frac{4}{9}&4&- \\frac{5}{3}&\\frac{2}{3}\\\\ \\end{array} \\right]$",
            "text/latex": "$\\left[ \\begin{array}{cccc}\\frac{1}{3}&0&0&0\\\\\\frac{1}{9}&1&- \\frac{5}{3}&- \\frac{10}{3}\\\\\\frac{1}{9}&-5&\\frac{4}{3}&\\frac{11}{3}\\\\\\frac{4}{9}&4&- \\frac{5}{3}&\\frac{2}{3}\\\\ \\end{array} \\right]$"
          },
          "metadata": {},
          "execution_count": 8
        }
      ]
    },
    {
      "cell_type": "markdown",
      "source": [
        "$\\left[ \\begin{array}{cccc}\\frac{1}{3}&0&0&0\\\\\\frac{1}{9}&1&- \\frac{5}{3}&- \\frac{10}{3}\\\\\\frac{1}{9}&-5&\\frac{4}{3}&\\frac{11}{3}\\\\\\frac{4}{9}&4&- \\frac{5}{3}&\\frac{2}{3}\\\\ \\end{array} \\right]$"
      ],
      "metadata": {
        "id": "h2ynL1K1MlVL"
      }
    },
    {
      "cell_type": "code",
      "source": [
        "M&T((2,1,2))"
      ],
      "metadata": {
        "colab": {
          "base_uri": "https://localhost:8080/",
          "height": 64
        },
        "id": "KksP5lNuKUVC",
        "outputId": "0b29f986-a87e-41d3-f62b-9a8dbf1af08e"
      },
      "execution_count": null,
      "outputs": [
        {
          "output_type": "execute_result",
          "data": {
            "text/plain": [
              "Matrix([Vector([1/3, 1/9, 1/9, 4/9]), Vector([2/3, 11/9, -43/9, 44/9]), Vector([0, -5/3, 4/3, -5/3]), Vector([0, -10/3, 11/3, 2/3])])"
            ],
            "text/html": [
              "<p style=\"text-align:center;\">$\\left[ \\begin{array}{cccc}\\frac{1}{3}&\\frac{2}{3}&0&0\\\\\\frac{1}{9}&\\frac{11}{9}&- \\frac{5}{3}&- \\frac{10}{3}\\\\\\frac{1}{9}&- \\frac{43}{9}&\\frac{4}{3}&\\frac{11}{3}\\\\\\frac{4}{9}&\\frac{44}{9}&- \\frac{5}{3}&\\frac{2}{3}\\\\ \\end{array} \\right]$</p>"
            ],
            "image/png": "$\\left[ \\begin{array}{cccc}\\frac{1}{3}&\\frac{2}{3}&0&0\\\\\\frac{1}{9}&\\frac{11}{9}&- \\frac{5}{3}&- \\frac{10}{3}\\\\\\frac{1}{9}&- \\frac{43}{9}&\\frac{4}{3}&\\frac{11}{3}\\\\\\frac{4}{9}&\\frac{44}{9}&- \\frac{5}{3}&\\frac{2}{3}\\\\ \\end{array} \\right]$",
            "text/latex": "$\\left[ \\begin{array}{cccc}\\frac{1}{3}&\\frac{2}{3}&0&0\\\\\\frac{1}{9}&\\frac{11}{9}&- \\frac{5}{3}&- \\frac{10}{3}\\\\\\frac{1}{9}&- \\frac{43}{9}&\\frac{4}{3}&\\frac{11}{3}\\\\\\frac{4}{9}&\\frac{44}{9}&- \\frac{5}{3}&\\frac{2}{3}\\\\ \\end{array} \\right]$"
          },
          "metadata": {},
          "execution_count": 9
        }
      ]
    },
    {
      "cell_type": "markdown",
      "source": [
        "$\\left[ \\begin{array}{cccc}\\frac{1}{3}&\\frac{2}{3}&0&0\\\\\\frac{1}{9}&\\frac{11}{9}&- \\frac{5}{3}&- \\frac{10}{3}\\\\\\frac{1}{9}&- \\frac{43}{9}&\\frac{4}{3}&\\frac{11}{3}\\\\\\frac{4}{9}&\\frac{44}{9}&- \\frac{5}{3}&\\frac{2}{3}\\\\ \\end{array} \\right]$"
      ],
      "metadata": {
        "id": "-M8z0rpYMpo4"
      }
    },
    {
      "cell_type": "code",
      "source": [
        "M&T((-2,1,3))"
      ],
      "metadata": {
        "colab": {
          "base_uri": "https://localhost:8080/",
          "height": 46
        },
        "id": "eIma-aAgKath",
        "outputId": "2bf38979-bfdd-4e67-8799-7da60c94d0bb"
      },
      "execution_count": null,
      "outputs": [
        {
          "output_type": "execute_result",
          "data": {
            "text/plain": [
              "Matrix([Vector([1, 1/3, 1/3, 4/3]), Vector([0, -1/3, 5/3, -4/3]), Vector([0, -5/3, 4/3, -5/3]), Vector([1, -3, 4, 2])])"
            ],
            "text/html": [
              "<p style=\"text-align:center;\">$\\left[ \\begin{array}{cccc}1&0&0&1\\\\\\frac{1}{3}&- \\frac{1}{3}&- \\frac{5}{3}&-3\\\\\\frac{1}{3}&\\frac{5}{3}&\\frac{4}{3}&4\\\\\\frac{4}{3}&- \\frac{4}{3}&- \\frac{5}{3}&2\\\\ \\end{array} \\right]$</p>"
            ],
            "image/png": "$\\left[ \\begin{array}{cccc}1&0&0&1\\\\\\frac{1}{3}&- \\frac{1}{3}&- \\frac{5}{3}&-3\\\\\\frac{1}{3}&\\frac{5}{3}&\\frac{4}{3}&4\\\\\\frac{4}{3}&- \\frac{4}{3}&- \\frac{5}{3}&2\\\\ \\end{array} \\right]$",
            "text/latex": "$\\left[ \\begin{array}{cccc}1&0&0&1\\\\\\frac{1}{3}&- \\frac{1}{3}&- \\frac{5}{3}&-3\\\\\\frac{1}{3}&\\frac{5}{3}&\\frac{4}{3}&4\\\\\\frac{4}{3}&- \\frac{4}{3}&- \\frac{5}{3}&2\\\\ \\end{array} \\right]$"
          },
          "metadata": {},
          "execution_count": 5
        }
      ]
    },
    {
      "cell_type": "markdown",
      "source": [
        "$\\left[ \\begin{array}{cccc}1&0&0&1\\\\\\frac{1}{3}&- \\frac{1}{3}&- \\frac{5}{3}&-3\\\\\\frac{1}{3}&\\frac{5}{3}&\\frac{4}{3}&4\\\\\\frac{4}{3}&- \\frac{4}{3}&- \\frac{5}{3}&2\\\\ \\end{array} \\right]$"
      ],
      "metadata": {
        "id": "7EbkSY57MxiW"
      }
    },
    {
      "cell_type": "code",
      "source": [
        "M&T((-1,1,4))"
      ],
      "metadata": {
        "colab": {
          "base_uri": "https://localhost:8080/",
          "height": 64
        },
        "id": "SfQzAjZbKeQ6",
        "outputId": "e4a86f7f-f8fe-4b9b-dd4a-96ffc484cab7"
      },
      "execution_count": null,
      "outputs": [
        {
          "output_type": "execute_result",
          "data": {
            "text/plain": [
              "Matrix([Vector([1/3, 1/9, 1/9, 4/9]), Vector([2/3, 11/9, -43/9, 44/9]), Vector([0, -5/3, 4/3, -5/3]), Vector([-1/3, -31/9, 32/9, 2/9])])"
            ],
            "text/html": [
              "<p style=\"text-align:center;\">$\\left[ \\begin{array}{cccc}\\frac{1}{3}&\\frac{2}{3}&0&- \\frac{1}{3}\\\\\\frac{1}{9}&\\frac{11}{9}&- \\frac{5}{3}&- \\frac{31}{9}\\\\\\frac{1}{9}&- \\frac{43}{9}&\\frac{4}{3}&\\frac{32}{9}\\\\\\frac{4}{9}&\\frac{44}{9}&- \\frac{5}{3}&\\frac{2}{9}\\\\ \\end{array} \\right]$</p>"
            ],
            "image/png": "$\\left[ \\begin{array}{cccc}\\frac{1}{3}&\\frac{2}{3}&0&- \\frac{1}{3}\\\\\\frac{1}{9}&\\frac{11}{9}&- \\frac{5}{3}&- \\frac{31}{9}\\\\\\frac{1}{9}&- \\frac{43}{9}&\\frac{4}{3}&\\frac{32}{9}\\\\\\frac{4}{9}&\\frac{44}{9}&- \\frac{5}{3}&\\frac{2}{9}\\\\ \\end{array} \\right]$",
            "text/latex": "$\\left[ \\begin{array}{cccc}\\frac{1}{3}&\\frac{2}{3}&0&- \\frac{1}{3}\\\\\\frac{1}{9}&\\frac{11}{9}&- \\frac{5}{3}&- \\frac{31}{9}\\\\\\frac{1}{9}&- \\frac{43}{9}&\\frac{4}{3}&\\frac{32}{9}\\\\\\frac{4}{9}&\\frac{44}{9}&- \\frac{5}{3}&\\frac{2}{9}\\\\ \\end{array} \\right]$"
          },
          "metadata": {},
          "execution_count": 10
        }
      ]
    },
    {
      "cell_type": "markdown",
      "source": [
        "$\\left[ \\begin{array}{cccc}\\frac{1}{3}&\\frac{2}{3}&0&- \\frac{1}{3}\\\\\\frac{1}{9}&\\frac{11}{9}&- \\frac{5}{3}&- \\frac{31}{9}\\\\\\frac{1}{9}&- \\frac{43}{9}&\\frac{4}{3}&\\frac{32}{9}\\\\\\frac{4}{9}&\\frac{44}{9}&- \\frac{5}{3}&\\frac{2}{9}\\\\ \\end{array} \\right]$"
      ],
      "metadata": {
        "id": "Jwy7CapVM4jk"
      }
    },
    {
      "cell_type": "code",
      "source": [
        "M&T((-fracc(3,1),2))"
      ],
      "metadata": {
        "colab": {
          "base_uri": "https://localhost:8080/",
          "height": 64
        },
        "id": "IWFWKS_qK293",
        "outputId": "1060d53d-f183-4e97-ee8e-1f02d9ce53d5"
      },
      "execution_count": null,
      "outputs": [
        {
          "output_type": "execute_result",
          "data": {
            "text/plain": [
              "Matrix([Vector([1/3, 1/9, 1/9, 4/9]), Vector([-2, -11/3, 43/3, -44/3]), Vector([0, -5/3, 4/3, -5/3]), Vector([-1/3, -31/9, 32/9, 2/9])])"
            ],
            "text/html": [
              "<p style=\"text-align:center;\">$\\left[ \\begin{array}{cccc}\\frac{1}{3}&-2&0&- \\frac{1}{3}\\\\\\frac{1}{9}&- \\frac{11}{3}&- \\frac{5}{3}&- \\frac{31}{9}\\\\\\frac{1}{9}&\\frac{43}{3}&\\frac{4}{3}&\\frac{32}{9}\\\\\\frac{4}{9}&- \\frac{44}{3}&- \\frac{5}{3}&\\frac{2}{9}\\\\ \\end{array} \\right]$</p>"
            ],
            "image/png": "$\\left[ \\begin{array}{cccc}\\frac{1}{3}&-2&0&- \\frac{1}{3}\\\\\\frac{1}{9}&- \\frac{11}{3}&- \\frac{5}{3}&- \\frac{31}{9}\\\\\\frac{1}{9}&\\frac{43}{3}&\\frac{4}{3}&\\frac{32}{9}\\\\\\frac{4}{9}&- \\frac{44}{3}&- \\frac{5}{3}&\\frac{2}{9}\\\\ \\end{array} \\right]$",
            "text/latex": "$\\left[ \\begin{array}{cccc}\\frac{1}{3}&-2&0&- \\frac{1}{3}\\\\\\frac{1}{9}&- \\frac{11}{3}&- \\frac{5}{3}&- \\frac{31}{9}\\\\\\frac{1}{9}&\\frac{43}{3}&\\frac{4}{3}&\\frac{32}{9}\\\\\\frac{4}{9}&- \\frac{44}{3}&- \\frac{5}{3}&\\frac{2}{9}\\\\ \\end{array} \\right]$"
          },
          "metadata": {},
          "execution_count": 11
        }
      ]
    },
    {
      "cell_type": "markdown",
      "source": [
        "$\\left[ \\begin{array}{cccc}\\frac{1}{3}&-2&0&- \\frac{1}{3}\\\\\\frac{1}{9}&- \\frac{11}{3}&- \\frac{5}{3}&- \\frac{31}{9}\\\\\\frac{1}{9}&\\frac{43}{3}&\\frac{4}{3}&\\frac{32}{9}\\\\\\frac{4}{9}&- \\frac{44}{3}&- \\frac{5}{3}&\\frac{2}{9}\\\\ \\end{array} \\right]$"
      ],
      "metadata": {
        "id": "6fqVYXG5NBe9"
      }
    },
    {
      "cell_type": "code",
      "source": [
        "M&T((-fracc(1,3),2,1))"
      ],
      "metadata": {
        "colab": {
          "base_uri": "https://localhost:8080/",
          "height": 64
        },
        "id": "ySa3se4FLCQj",
        "outputId": "e068043c-c5b9-4716-f884-4d2dbe38dde9"
      },
      "execution_count": null,
      "outputs": [
        {
          "output_type": "execute_result",
          "data": {
            "text/plain": [
              "Matrix([Vector([1, 4/3, -14/3, 16/3]), Vector([-2, -11/3, 43/3, -44/3]), Vector([0, -5/3, 4/3, -5/3]), Vector([-1/3, -31/9, 32/9, 2/9])])"
            ],
            "text/html": [
              "<p style=\"text-align:center;\">$\\left[ \\begin{array}{cccc}1&-2&0&- \\frac{1}{3}\\\\\\frac{4}{3}&- \\frac{11}{3}&- \\frac{5}{3}&- \\frac{31}{9}\\\\- \\frac{14}{3}&\\frac{43}{3}&\\frac{4}{3}&\\frac{32}{9}\\\\\\frac{16}{3}&- \\frac{44}{3}&- \\frac{5}{3}&\\frac{2}{9}\\\\ \\end{array} \\right]$</p>"
            ],
            "image/png": "$\\left[ \\begin{array}{cccc}1&-2&0&- \\frac{1}{3}\\\\\\frac{4}{3}&- \\frac{11}{3}&- \\frac{5}{3}&- \\frac{31}{9}\\\\- \\frac{14}{3}&\\frac{43}{3}&\\frac{4}{3}&\\frac{32}{9}\\\\\\frac{16}{3}&- \\frac{44}{3}&- \\frac{5}{3}&\\frac{2}{9}\\\\ \\end{array} \\right]$",
            "text/latex": "$\\left[ \\begin{array}{cccc}1&-2&0&- \\frac{1}{3}\\\\\\frac{4}{3}&- \\frac{11}{3}&- \\frac{5}{3}&- \\frac{31}{9}\\\\- \\frac{14}{3}&\\frac{43}{3}&\\frac{4}{3}&\\frac{32}{9}\\\\\\frac{16}{3}&- \\frac{44}{3}&- \\frac{5}{3}&\\frac{2}{9}\\\\ \\end{array} \\right]$"
          },
          "metadata": {},
          "execution_count": 12
        }
      ]
    },
    {
      "cell_type": "markdown",
      "source": [
        "$\\left[ \\begin{array}{cccc}1&-2&0&- \\frac{1}{3}\\\\\\frac{4}{3}&- \\frac{11}{3}&- \\frac{5}{3}&- \\frac{31}{9}\\\\- \\frac{14}{3}&\\frac{43}{3}&\\frac{4}{3}&\\frac{32}{9}\\\\\\frac{16}{3}&- \\frac{44}{3}&- \\frac{5}{3}&\\frac{2}{9}\\\\ \\end{array} \\right]$"
      ],
      "metadata": {
        "id": "fz_QmYZhNFhI"
      }
    },
    {
      "cell_type": "code",
      "source": [
        "M&T((fracc(5,3),2,3))"
      ],
      "metadata": {
        "colab": {
          "base_uri": "https://localhost:8080/",
          "height": 64
        },
        "id": "ZkyXBi8TLV2K",
        "outputId": "eb1f8f78-46f2-4659-d99f-ecce5bb74a95"
      },
      "execution_count": null,
      "outputs": [
        {
          "output_type": "execute_result",
          "data": {
            "text/plain": [
              "Matrix([Vector([1, 4/3, -14/3, 16/3]), Vector([-2, -11/3, 43/3, -44/3]), Vector([-10/3, -70/9, 227/9, -235/9]), Vector([-1/3, -31/9, 32/9, 2/9])])"
            ],
            "text/html": [
              "<p style=\"text-align:center;\">$\\left[ \\begin{array}{cccc}1&-2&- \\frac{10}{3}&- \\frac{1}{3}\\\\\\frac{4}{3}&- \\frac{11}{3}&- \\frac{70}{9}&- \\frac{31}{9}\\\\- \\frac{14}{3}&\\frac{43}{3}&\\frac{227}{9}&\\frac{32}{9}\\\\\\frac{16}{3}&- \\frac{44}{3}&- \\frac{235}{9}&\\frac{2}{9}\\\\ \\end{array} \\right]$</p>"
            ],
            "image/png": "$\\left[ \\begin{array}{cccc}1&-2&- \\frac{10}{3}&- \\frac{1}{3}\\\\\\frac{4}{3}&- \\frac{11}{3}&- \\frac{70}{9}&- \\frac{31}{9}\\\\- \\frac{14}{3}&\\frac{43}{3}&\\frac{227}{9}&\\frac{32}{9}\\\\\\frac{16}{3}&- \\frac{44}{3}&- \\frac{235}{9}&\\frac{2}{9}\\\\ \\end{array} \\right]$",
            "text/latex": "$\\left[ \\begin{array}{cccc}1&-2&- \\frac{10}{3}&- \\frac{1}{3}\\\\\\frac{4}{3}&- \\frac{11}{3}&- \\frac{70}{9}&- \\frac{31}{9}\\\\- \\frac{14}{3}&\\frac{43}{3}&\\frac{227}{9}&\\frac{32}{9}\\\\\\frac{16}{3}&- \\frac{44}{3}&- \\frac{235}{9}&\\frac{2}{9}\\\\ \\end{array} \\right]$"
          },
          "metadata": {},
          "execution_count": 13
        }
      ]
    },
    {
      "cell_type": "markdown",
      "source": [
        "$\\left[ \\begin{array}{cccc}1&-2&- \\frac{10}{3}&- \\frac{1}{3}\\\\\\frac{4}{3}&- \\frac{11}{3}&- \\frac{70}{9}&- \\frac{31}{9}\\\\- \\frac{14}{3}&\\frac{43}{3}&\\frac{227}{9}&\\frac{32}{9}\\\\\\frac{16}{3}&- \\frac{44}{3}&- \\frac{235}{9}&\\frac{2}{9}\\\\ \\end{array} \\right]$"
      ],
      "metadata": {
        "id": "x7UGqycpNJOn"
      }
    },
    {
      "cell_type": "code",
      "source": [
        "M&T((fracc(10,3),2,4))"
      ],
      "metadata": {
        "colab": {
          "base_uri": "https://localhost:8080/",
          "height": 64
        },
        "id": "Z7-BQkn7LaqM",
        "outputId": "5f0dff19-3b9d-4ca2-e96d-090ff50ce59a"
      },
      "execution_count": null,
      "outputs": [
        {
          "output_type": "execute_result",
          "data": {
            "text/plain": [
              "Matrix([Vector([1, 4/3, -14/3, 16/3]), Vector([-2, -11/3, 43/3, -44/3]), Vector([-10/3, -70/9, 227/9, -235/9]), Vector([-7, -47/3, 154/3, -146/3])])"
            ],
            "text/html": [
              "<p style=\"text-align:center;\">$\\left[ \\begin{array}{cccc}1&-2&- \\frac{10}{3}&-7\\\\\\frac{4}{3}&- \\frac{11}{3}&- \\frac{70}{9}&- \\frac{47}{3}\\\\- \\frac{14}{3}&\\frac{43}{3}&\\frac{227}{9}&\\frac{154}{3}\\\\\\frac{16}{3}&- \\frac{44}{3}&- \\frac{235}{9}&- \\frac{146}{3}\\\\ \\end{array} \\right]$</p>"
            ],
            "image/png": "$\\left[ \\begin{array}{cccc}1&-2&- \\frac{10}{3}&-7\\\\\\frac{4}{3}&- \\frac{11}{3}&- \\frac{70}{9}&- \\frac{47}{3}\\\\- \\frac{14}{3}&\\frac{43}{3}&\\frac{227}{9}&\\frac{154}{3}\\\\\\frac{16}{3}&- \\frac{44}{3}&- \\frac{235}{9}&- \\frac{146}{3}\\\\ \\end{array} \\right]$",
            "text/latex": "$\\left[ \\begin{array}{cccc}1&-2&- \\frac{10}{3}&-7\\\\\\frac{4}{3}&- \\frac{11}{3}&- \\frac{70}{9}&- \\frac{47}{3}\\\\- \\frac{14}{3}&\\frac{43}{3}&\\frac{227}{9}&\\frac{154}{3}\\\\\\frac{16}{3}&- \\frac{44}{3}&- \\frac{235}{9}&- \\frac{146}{3}\\\\ \\end{array} \\right]$"
          },
          "metadata": {},
          "execution_count": 14
        }
      ]
    },
    {
      "cell_type": "markdown",
      "source": [
        "$\\left[ \\begin{array}{cccc}1&-2&- \\frac{10}{3}&-7\\\\\\frac{4}{3}&- \\frac{11}{3}&- \\frac{70}{9}&- \\frac{47}{3}\\\\- \\frac{14}{3}&\\frac{43}{3}&\\frac{227}{9}&\\frac{154}{3}\\\\\\frac{16}{3}&- \\frac{44}{3}&- \\frac{235}{9}&- \\frac{146}{3}\\\\ \\end{array} \\right]$"
      ],
      "metadata": {
        "id": "-7s19DgrNQ2x"
      }
    },
    {
      "cell_type": "code",
      "source": [
        "M&T((-fracc(1,7),3))"
      ],
      "metadata": {
        "colab": {
          "base_uri": "https://localhost:8080/",
          "height": 64
        },
        "id": "iWyw8M95LeAA",
        "outputId": "06d6d1a8-1609-4056-ade5-fc22aa43a9a1"
      },
      "execution_count": null,
      "outputs": [
        {
          "output_type": "execute_result",
          "data": {
            "text/plain": [
              "Matrix([Vector([1, 4/3, -14/3, 16/3]), Vector([-2, -11/3, 43/3, -44/3]), Vector([10/21, 10/9, -227/63, 235/63]), Vector([-7, -47/3, 154/3, -146/3])])"
            ],
            "text/html": [
              "<p style=\"text-align:center;\">$\\left[ \\begin{array}{cccc}1&-2&\\frac{10}{21}&-7\\\\\\frac{4}{3}&- \\frac{11}{3}&\\frac{10}{9}&- \\frac{47}{3}\\\\- \\frac{14}{3}&\\frac{43}{3}&- \\frac{227}{63}&\\frac{154}{3}\\\\\\frac{16}{3}&- \\frac{44}{3}&\\frac{235}{63}&- \\frac{146}{3}\\\\ \\end{array} \\right]$</p>"
            ],
            "image/png": "$\\left[ \\begin{array}{cccc}1&-2&\\frac{10}{21}&-7\\\\\\frac{4}{3}&- \\frac{11}{3}&\\frac{10}{9}&- \\frac{47}{3}\\\\- \\frac{14}{3}&\\frac{43}{3}&- \\frac{227}{63}&\\frac{154}{3}\\\\\\frac{16}{3}&- \\frac{44}{3}&\\frac{235}{63}&- \\frac{146}{3}\\\\ \\end{array} \\right]$",
            "text/latex": "$\\left[ \\begin{array}{cccc}1&-2&\\frac{10}{21}&-7\\\\\\frac{4}{3}&- \\frac{11}{3}&\\frac{10}{9}&- \\frac{47}{3}\\\\- \\frac{14}{3}&\\frac{43}{3}&- \\frac{227}{63}&\\frac{154}{3}\\\\\\frac{16}{3}&- \\frac{44}{3}&\\frac{235}{63}&- \\frac{146}{3}\\\\ \\end{array} \\right]$"
          },
          "metadata": {},
          "execution_count": 15
        }
      ]
    },
    {
      "cell_type": "markdown",
      "source": [
        "$\\left[ \\begin{array}{cccc}1&-2&\\frac{10}{21}&-7\\\\\\frac{4}{3}&- \\frac{11}{3}&\\frac{10}{9}&- \\frac{47}{3}\\\\- \\frac{14}{3}&\\frac{43}{3}&- \\frac{227}{63}&\\frac{154}{3}\\\\\\frac{16}{3}&- \\frac{44}{3}&\\frac{235}{63}&- \\frac{146}{3}\\\\ \\end{array} \\right]$"
      ],
      "metadata": {
        "id": "rghOS9SoNUM4"
      }
    },
    {
      "cell_type": "code",
      "source": [
        "M&T((-2,3,1))"
      ],
      "metadata": {
        "colab": {
          "base_uri": "https://localhost:8080/",
          "height": 64
        },
        "id": "t2AemgCeLd81",
        "outputId": "8a3de9fa-cc5b-43dd-ff33-baad26c31ae1"
      },
      "execution_count": null,
      "outputs": [
        {
          "output_type": "execute_result",
          "data": {
            "text/plain": [
              "Matrix([Vector([1/21, -8/9, 160/63, -134/63]), Vector([-2, -11/3, 43/3, -44/3]), Vector([10/21, 10/9, -227/63, 235/63]), Vector([-7, -47/3, 154/3, -146/3])])"
            ],
            "text/html": [
              "<p style=\"text-align:center;\">$\\left[ \\begin{array}{cccc}\\frac{1}{21}&-2&\\frac{10}{21}&-7\\\\- \\frac{8}{9}&- \\frac{11}{3}&\\frac{10}{9}&- \\frac{47}{3}\\\\\\frac{160}{63}&\\frac{43}{3}&- \\frac{227}{63}&\\frac{154}{3}\\\\- \\frac{134}{63}&- \\frac{44}{3}&\\frac{235}{63}&- \\frac{146}{3}\\\\ \\end{array} \\right]$</p>"
            ],
            "image/png": "$\\left[ \\begin{array}{cccc}\\frac{1}{21}&-2&\\frac{10}{21}&-7\\\\- \\frac{8}{9}&- \\frac{11}{3}&\\frac{10}{9}&- \\frac{47}{3}\\\\\\frac{160}{63}&\\frac{43}{3}&- \\frac{227}{63}&\\frac{154}{3}\\\\- \\frac{134}{63}&- \\frac{44}{3}&\\frac{235}{63}&- \\frac{146}{3}\\\\ \\end{array} \\right]$",
            "text/latex": "$\\left[ \\begin{array}{cccc}\\frac{1}{21}&-2&\\frac{10}{21}&-7\\\\- \\frac{8}{9}&- \\frac{11}{3}&\\frac{10}{9}&- \\frac{47}{3}\\\\\\frac{160}{63}&\\frac{43}{3}&- \\frac{227}{63}&\\frac{154}{3}\\\\- \\frac{134}{63}&- \\frac{44}{3}&\\frac{235}{63}&- \\frac{146}{3}\\\\ \\end{array} \\right]$"
          },
          "metadata": {},
          "execution_count": 16
        }
      ]
    },
    {
      "cell_type": "markdown",
      "source": [
        "$\\left[ \\begin{array}{cccc}\\frac{1}{21}&-2&\\frac{10}{21}&-7\\\\- \\frac{8}{9}&- \\frac{11}{3}&\\frac{10}{9}&- \\frac{47}{3}\\\\\\frac{160}{63}&\\frac{43}{3}&- \\frac{227}{63}&\\frac{154}{3}\\\\- \\frac{134}{63}&- \\frac{44}{3}&\\frac{235}{63}&- \\frac{146}{3}\\\\ \\end{array} \\right]$"
      ],
      "metadata": {
        "id": "bencJzNpNXMC"
      }
    },
    {
      "cell_type": "code",
      "source": [
        "M&T((5,3,2))"
      ],
      "metadata": {
        "colab": {
          "base_uri": "https://localhost:8080/",
          "height": 64
        },
        "id": "K0P5yG_BLlER",
        "outputId": "cf2ce16c-823e-46ee-b2ee-32d5e292091d"
      },
      "execution_count": null,
      "outputs": [
        {
          "output_type": "execute_result",
          "data": {
            "text/plain": [
              "Matrix([Vector([1/21, -8/9, 160/63, -134/63]), Vector([8/21, 17/9, -232/63, 251/63]), Vector([10/21, 10/9, -227/63, 235/63]), Vector([-7, -47/3, 154/3, -146/3])])"
            ],
            "text/html": [
              "<p style=\"text-align:center;\">$\\left[ \\begin{array}{cccc}\\frac{1}{21}&\\frac{8}{21}&\\frac{10}{21}&-7\\\\- \\frac{8}{9}&\\frac{17}{9}&\\frac{10}{9}&- \\frac{47}{3}\\\\\\frac{160}{63}&- \\frac{232}{63}&- \\frac{227}{63}&\\frac{154}{3}\\\\- \\frac{134}{63}&\\frac{251}{63}&\\frac{235}{63}&- \\frac{146}{3}\\\\ \\end{array} \\right]$</p>"
            ],
            "image/png": "$\\left[ \\begin{array}{cccc}\\frac{1}{21}&\\frac{8}{21}&\\frac{10}{21}&-7\\\\- \\frac{8}{9}&\\frac{17}{9}&\\frac{10}{9}&- \\frac{47}{3}\\\\\\frac{160}{63}&- \\frac{232}{63}&- \\frac{227}{63}&\\frac{154}{3}\\\\- \\frac{134}{63}&\\frac{251}{63}&\\frac{235}{63}&- \\frac{146}{3}\\\\ \\end{array} \\right]$",
            "text/latex": "$\\left[ \\begin{array}{cccc}\\frac{1}{21}&\\frac{8}{21}&\\frac{10}{21}&-7\\\\- \\frac{8}{9}&\\frac{17}{9}&\\frac{10}{9}&- \\frac{47}{3}\\\\\\frac{160}{63}&- \\frac{232}{63}&- \\frac{227}{63}&\\frac{154}{3}\\\\- \\frac{134}{63}&\\frac{251}{63}&\\frac{235}{63}&- \\frac{146}{3}\\\\ \\end{array} \\right]$"
          },
          "metadata": {},
          "execution_count": 17
        }
      ]
    },
    {
      "cell_type": "markdown",
      "source": [
        "$\\left[ \\begin{array}{cccc}\\frac{1}{21}&\\frac{8}{21}&\\frac{10}{21}&-7\\\\- \\frac{8}{9}&\\frac{17}{9}&\\frac{10}{9}&- \\frac{47}{3}\\\\\\frac{160}{63}&- \\frac{232}{63}&- \\frac{227}{63}&\\frac{154}{3}\\\\- \\frac{134}{63}&\\frac{251}{63}&\\frac{235}{63}&- \\frac{146}{3}\\\\ \\end{array} \\right]$"
      ],
      "metadata": {
        "id": "6RVZ-gE5NezI"
      }
    },
    {
      "cell_type": "code",
      "source": [
        "M&T((13,3,4))"
      ],
      "metadata": {
        "colab": {
          "base_uri": "https://localhost:8080/",
          "height": 64
        },
        "id": "7cso9rkNLnxQ",
        "outputId": "343a2689-393e-42c8-e101-13ad05aaed13"
      },
      "execution_count": null,
      "outputs": [
        {
          "output_type": "execute_result",
          "data": {
            "text/plain": [
              "Matrix([Vector([1/21, -8/9, 160/63, -134/63]), Vector([8/21, 17/9, -232/63, 251/63]), Vector([10/21, 10/9, -227/63, 235/63]), Vector([-17/21, -11/9, 283/63, -11/63])])"
            ],
            "text/html": [
              "<p style=\"text-align:center;\">$\\left[ \\begin{array}{cccc}\\frac{1}{21}&\\frac{8}{21}&\\frac{10}{21}&- \\frac{17}{21}\\\\- \\frac{8}{9}&\\frac{17}{9}&\\frac{10}{9}&- \\frac{11}{9}\\\\\\frac{160}{63}&- \\frac{232}{63}&- \\frac{227}{63}&\\frac{283}{63}\\\\- \\frac{134}{63}&\\frac{251}{63}&\\frac{235}{63}&- \\frac{11}{63}\\\\ \\end{array} \\right]$</p>"
            ],
            "image/png": "$\\left[ \\begin{array}{cccc}\\frac{1}{21}&\\frac{8}{21}&\\frac{10}{21}&- \\frac{17}{21}\\\\- \\frac{8}{9}&\\frac{17}{9}&\\frac{10}{9}&- \\frac{11}{9}\\\\\\frac{160}{63}&- \\frac{232}{63}&- \\frac{227}{63}&\\frac{283}{63}\\\\- \\frac{134}{63}&\\frac{251}{63}&\\frac{235}{63}&- \\frac{11}{63}\\\\ \\end{array} \\right]$",
            "text/latex": "$\\left[ \\begin{array}{cccc}\\frac{1}{21}&\\frac{8}{21}&\\frac{10}{21}&- \\frac{17}{21}\\\\- \\frac{8}{9}&\\frac{17}{9}&\\frac{10}{9}&- \\frac{11}{9}\\\\\\frac{160}{63}&- \\frac{232}{63}&- \\frac{227}{63}&\\frac{283}{63}\\\\- \\frac{134}{63}&\\frac{251}{63}&\\frac{235}{63}&- \\frac{11}{63}\\\\ \\end{array} \\right]$"
          },
          "metadata": {},
          "execution_count": 18
        }
      ]
    },
    {
      "cell_type": "markdown",
      "source": [
        "$\\left[ \\begin{array}{cccc}\\frac{1}{21}&\\frac{8}{21}&\\frac{10}{21}&- \\frac{17}{21}\\\\- \\frac{8}{9}&\\frac{17}{9}&\\frac{10}{9}&- \\frac{11}{9}\\\\\\frac{160}{63}&- \\frac{232}{63}&- \\frac{227}{63}&\\frac{283}{63}\\\\- \\frac{134}{63}&\\frac{251}{63}&\\frac{235}{63}&- \\frac{11}{63}\\\\ \\end{array} \\right]$"
      ],
      "metadata": {
        "id": "jUDlHwVSNidb"
      }
    },
    {
      "cell_type": "code",
      "source": [
        "M&T((fracc(7,33),4))"
      ],
      "metadata": {
        "colab": {
          "base_uri": "https://localhost:8080/",
          "height": 64
        },
        "id": "ebDl7N9xLrP_",
        "outputId": "d1b0b74c-20a2-44be-9d9a-0e36865c17bc"
      },
      "execution_count": null,
      "outputs": [
        {
          "output_type": "execute_result",
          "data": {
            "text/plain": [
              "Matrix([Vector([1/21, -8/9, 160/63, -134/63]), Vector([8/21, 17/9, -232/63, 251/63]), Vector([10/21, 10/9, -227/63, 235/63]), Vector([-17/99, -7/27, 283/297, -1/27])])"
            ],
            "text/html": [
              "<p style=\"text-align:center;\">$\\left[ \\begin{array}{cccc}\\frac{1}{21}&\\frac{8}{21}&\\frac{10}{21}&- \\frac{17}{99}\\\\- \\frac{8}{9}&\\frac{17}{9}&\\frac{10}{9}&- \\frac{7}{27}\\\\\\frac{160}{63}&- \\frac{232}{63}&- \\frac{227}{63}&\\frac{283}{297}\\\\- \\frac{134}{63}&\\frac{251}{63}&\\frac{235}{63}&- \\frac{1}{27}\\\\ \\end{array} \\right]$</p>"
            ],
            "image/png": "$\\left[ \\begin{array}{cccc}\\frac{1}{21}&\\frac{8}{21}&\\frac{10}{21}&- \\frac{17}{99}\\\\- \\frac{8}{9}&\\frac{17}{9}&\\frac{10}{9}&- \\frac{7}{27}\\\\\\frac{160}{63}&- \\frac{232}{63}&- \\frac{227}{63}&\\frac{283}{297}\\\\- \\frac{134}{63}&\\frac{251}{63}&\\frac{235}{63}&- \\frac{1}{27}\\\\ \\end{array} \\right]$",
            "text/latex": "$\\left[ \\begin{array}{cccc}\\frac{1}{21}&\\frac{8}{21}&\\frac{10}{21}&- \\frac{17}{99}\\\\- \\frac{8}{9}&\\frac{17}{9}&\\frac{10}{9}&- \\frac{7}{27}\\\\\\frac{160}{63}&- \\frac{232}{63}&- \\frac{227}{63}&\\frac{283}{297}\\\\- \\frac{134}{63}&\\frac{251}{63}&\\frac{235}{63}&- \\frac{1}{27}\\\\ \\end{array} \\right]$"
          },
          "metadata": {},
          "execution_count": 19
        }
      ]
    },
    {
      "cell_type": "markdown",
      "source": [
        "$\\left[ \\begin{array}{cccc}\\frac{1}{21}&\\frac{8}{21}&\\frac{10}{21}&- \\frac{17}{99}\\\\- \\frac{8}{9}&\\frac{17}{9}&\\frac{10}{9}&- \\frac{7}{27}\\\\\\frac{160}{63}&- \\frac{232}{63}&- \\frac{227}{63}&\\frac{283}{297}\\\\- \\frac{134}{63}&\\frac{251}{63}&\\frac{235}{63}&- \\frac{1}{27}\\\\ \\end{array} \\right]$"
      ],
      "metadata": {
        "id": "v1sz3gzRNmnM"
      }
    },
    {
      "cell_type": "code",
      "source": [
        "M&T((-fracc(10,7),4,1))"
      ],
      "metadata": {
        "colab": {
          "base_uri": "https://localhost:8080/",
          "height": 64
        },
        "id": "9aJuCaQZLtkV",
        "outputId": "6f2d1b78-34dd-4a97-ecc6-d0b2667632a9"
      },
      "execution_count": null,
      "outputs": [
        {
          "output_type": "execute_result",
          "data": {
            "text/plain": [
              "Matrix([Vector([29/99, -14/27, 350/297, -56/27]), Vector([8/21, 17/9, -232/63, 251/63]), Vector([10/21, 10/9, -227/63, 235/63]), Vector([-17/99, -7/27, 283/297, -1/27])])"
            ],
            "text/html": [
              "<p style=\"text-align:center;\">$\\left[ \\begin{array}{cccc}\\frac{29}{99}&\\frac{8}{21}&\\frac{10}{21}&- \\frac{17}{99}\\\\- \\frac{14}{27}&\\frac{17}{9}&\\frac{10}{9}&- \\frac{7}{27}\\\\\\frac{350}{297}&- \\frac{232}{63}&- \\frac{227}{63}&\\frac{283}{297}\\\\- \\frac{56}{27}&\\frac{251}{63}&\\frac{235}{63}&- \\frac{1}{27}\\\\ \\end{array} \\right]$</p>"
            ],
            "image/png": "$\\left[ \\begin{array}{cccc}\\frac{29}{99}&\\frac{8}{21}&\\frac{10}{21}&- \\frac{17}{99}\\\\- \\frac{14}{27}&\\frac{17}{9}&\\frac{10}{9}&- \\frac{7}{27}\\\\\\frac{350}{297}&- \\frac{232}{63}&- \\frac{227}{63}&\\frac{283}{297}\\\\- \\frac{56}{27}&\\frac{251}{63}&\\frac{235}{63}&- \\frac{1}{27}\\\\ \\end{array} \\right]$",
            "text/latex": "$\\left[ \\begin{array}{cccc}\\frac{29}{99}&\\frac{8}{21}&\\frac{10}{21}&- \\frac{17}{99}\\\\- \\frac{14}{27}&\\frac{17}{9}&\\frac{10}{9}&- \\frac{7}{27}\\\\\\frac{350}{297}&- \\frac{232}{63}&- \\frac{227}{63}&\\frac{283}{297}\\\\- \\frac{56}{27}&\\frac{251}{63}&\\frac{235}{63}&- \\frac{1}{27}\\\\ \\end{array} \\right]$"
          },
          "metadata": {},
          "execution_count": 20
        }
      ]
    },
    {
      "cell_type": "markdown",
      "source": [
        "$\\left[ \\begin{array}{cccc}\\frac{29}{99}&\\frac{8}{21}&\\frac{10}{21}&- \\frac{17}{99}\\\\- \\frac{14}{27}&\\frac{17}{9}&\\frac{10}{9}&- \\frac{7}{27}\\\\\\frac{350}{297}&- \\frac{232}{63}&- \\frac{227}{63}&\\frac{283}{297}\\\\- \\frac{56}{27}&\\frac{251}{63}&\\frac{235}{63}&- \\frac{1}{27}\\\\ \\end{array} \\right]$"
      ],
      "metadata": {
        "id": "efgPvchSNp9U"
      }
    },
    {
      "cell_type": "code",
      "source": [
        "M&T((-fracc(3,7),4,2))"
      ],
      "metadata": {
        "colab": {
          "base_uri": "https://localhost:8080/",
          "height": 64
        },
        "id": "5FsH3skDL5HH",
        "outputId": "80b2e56d-b170-4268-dba5-f2e5aff0a7f6"
      },
      "execution_count": null,
      "outputs": [
        {
          "output_type": "execute_result",
          "data": {
            "text/plain": [
              "Matrix([Vector([29/99, -14/27, 350/297, -56/27]), Vector([5/11, 2, -45/11, 4]), Vector([10/21, 10/9, -227/63, 235/63]), Vector([-17/99, -7/27, 283/297, -1/27])])"
            ],
            "text/html": [
              "<p style=\"text-align:center;\">$\\left[ \\begin{array}{cccc}\\frac{29}{99}&\\frac{5}{11}&\\frac{10}{21}&- \\frac{17}{99}\\\\- \\frac{14}{27}&2&\\frac{10}{9}&- \\frac{7}{27}\\\\\\frac{350}{297}&- \\frac{45}{11}&- \\frac{227}{63}&\\frac{283}{297}\\\\- \\frac{56}{27}&4&\\frac{235}{63}&- \\frac{1}{27}\\\\ \\end{array} \\right]$</p>"
            ],
            "image/png": "$\\left[ \\begin{array}{cccc}\\frac{29}{99}&\\frac{5}{11}&\\frac{10}{21}&- \\frac{17}{99}\\\\- \\frac{14}{27}&2&\\frac{10}{9}&- \\frac{7}{27}\\\\\\frac{350}{297}&- \\frac{45}{11}&- \\frac{227}{63}&\\frac{283}{297}\\\\- \\frac{56}{27}&4&\\frac{235}{63}&- \\frac{1}{27}\\\\ \\end{array} \\right]$",
            "text/latex": "$\\left[ \\begin{array}{cccc}\\frac{29}{99}&\\frac{5}{11}&\\frac{10}{21}&- \\frac{17}{99}\\\\- \\frac{14}{27}&2&\\frac{10}{9}&- \\frac{7}{27}\\\\\\frac{350}{297}&- \\frac{45}{11}&- \\frac{227}{63}&\\frac{283}{297}\\\\- \\frac{56}{27}&4&\\frac{235}{63}&- \\frac{1}{27}\\\\ \\end{array} \\right]$"
          },
          "metadata": {},
          "execution_count": 21
        }
      ]
    },
    {
      "cell_type": "markdown",
      "source": [
        "$\\left[ \\begin{array}{cccc}\\frac{29}{99}&\\frac{5}{11}&\\frac{10}{21}&- \\frac{17}{99}\\\\- \\frac{14}{27}&2&\\frac{10}{9}&- \\frac{7}{27}\\\\\\frac{350}{297}&- \\frac{45}{11}&- \\frac{227}{63}&\\frac{283}{297}\\\\- \\frac{56}{27}&4&\\frac{235}{63}&- \\frac{1}{27}\\\\ \\end{array} \\right]$"
      ],
      "metadata": {
        "id": "9q5tAK4RNu6X"
      }
    },
    {
      "cell_type": "code",
      "source": [
        "M&T((fracc(5,7),4,3))"
      ],
      "metadata": {
        "colab": {
          "base_uri": "https://localhost:8080/",
          "height": 64
        },
        "id": "AAP-flDdL9IA",
        "outputId": "fa4456ab-b05e-48e7-b346-f7995d8fd293"
      },
      "execution_count": null,
      "outputs": [
        {
          "output_type": "execute_result",
          "data": {
            "text/plain": [
              "Matrix([Vector([29/99, -14/27, 350/297, -56/27]), Vector([5/11, 2, -45/11, 4]), Vector([35/99, 25/27, -868/297, 100/27]), Vector([-17/99, -7/27, 283/297, -1/27])])"
            ],
            "text/html": [
              "<p style=\"text-align:center;\">$\\left[ \\begin{array}{cccc}\\frac{29}{99}&\\frac{5}{11}&\\frac{35}{99}&- \\frac{17}{99}\\\\- \\frac{14}{27}&2&\\frac{25}{27}&- \\frac{7}{27}\\\\\\frac{350}{297}&- \\frac{45}{11}&- \\frac{868}{297}&\\frac{283}{297}\\\\- \\frac{56}{27}&4&\\frac{100}{27}&- \\frac{1}{27}\\\\ \\end{array} \\right]$</p>"
            ],
            "image/png": "$\\left[ \\begin{array}{cccc}\\frac{29}{99}&\\frac{5}{11}&\\frac{35}{99}&- \\frac{17}{99}\\\\- \\frac{14}{27}&2&\\frac{25}{27}&- \\frac{7}{27}\\\\\\frac{350}{297}&- \\frac{45}{11}&- \\frac{868}{297}&\\frac{283}{297}\\\\- \\frac{56}{27}&4&\\frac{100}{27}&- \\frac{1}{27}\\\\ \\end{array} \\right]$",
            "text/latex": "$\\left[ \\begin{array}{cccc}\\frac{29}{99}&\\frac{5}{11}&\\frac{35}{99}&- \\frac{17}{99}\\\\- \\frac{14}{27}&2&\\frac{25}{27}&- \\frac{7}{27}\\\\\\frac{350}{297}&- \\frac{45}{11}&- \\frac{868}{297}&\\frac{283}{297}\\\\- \\frac{56}{27}&4&\\frac{100}{27}&- \\frac{1}{27}\\\\ \\end{array} \\right]$"
          },
          "metadata": {},
          "execution_count": 22
        }
      ]
    },
    {
      "cell_type": "markdown",
      "source": [
        "$\\left[ \\begin{array}{cccc}\\frac{29}{99}&\\frac{5}{11}&\\frac{35}{99}&- \\frac{17}{99}\\\\- \\frac{14}{27}&2&\\frac{25}{27}&- \\frac{7}{27}\\\\\\frac{350}{297}&- \\frac{45}{11}&- \\frac{868}{297}&\\frac{283}{297}\\\\- \\frac{56}{27}&4&\\frac{100}{27}&- \\frac{1}{27}\\\\ \\end{array} \\right]$"
      ],
      "metadata": {
        "id": "9EdSYU88NyfU"
      }
    },
    {
      "cell_type": "markdown",
      "source": [
        "2. Escriba las siguientes matrices elementales de orden 4.\n",
        "\n",
        "\n",
        "(a) I τ\n",
        "[(−7)1+3]\n",
        "\n",
        "(b) I τ\n",
        "[(1)1+4]\n",
        "\n",
        "(c) I τ\n",
        "[(3)2+1]\n",
        "\n",
        "(d) I τ\n",
        "[(−10)3]"
      ],
      "metadata": {
        "id": "2wXEkEH9hXGe"
      }
    },
    {
      "cell_type": "code",
      "source": [
        "I(4)&T((-7,1,3))"
      ],
      "metadata": {
        "id": "VwpgU9rhIxoU",
        "colab": {
          "base_uri": "https://localhost:8080/",
          "height": 46
        },
        "outputId": "f9f043e1-fa39-42fa-b8b9-f43f88a58365"
      },
      "execution_count": 9,
      "outputs": [
        {
          "output_type": "execute_result",
          "data": {
            "text/plain": [
              "Matrix([Vector([1, 0, 0, 0]), Vector([0, 1, 0, 0]), Vector([-7, 0, 1, 0]), Vector([0, 0, 0, 1])])"
            ],
            "text/html": [
              "<p style=\"text-align:center;\">$\\left[ \\begin{array}{cccc}1&0&-7&0\\\\0&1&0&0\\\\0&0&1&0\\\\0&0&0&1\\\\ \\end{array} \\right]$</p>"
            ],
            "image/png": "$\\left[ \\begin{array}{cccc}1&0&-7&0\\\\0&1&0&0\\\\0&0&1&0\\\\0&0&0&1\\\\ \\end{array} \\right]$",
            "text/latex": "$\\left[ \\begin{array}{cccc}1&0&-7&0\\\\0&1&0&0\\\\0&0&1&0\\\\0&0&0&1\\\\ \\end{array} \\right]$"
          },
          "metadata": {},
          "execution_count": 9
        }
      ]
    },
    {
      "cell_type": "markdown",
      "source": [
        "$\\left[ \\begin{array}{cccc}1&0&-7&0\\\\0&1&0&0\\\\0&0&1&0\\\\0&0&0&1\\\\ \\end{array} \\right]$"
      ],
      "metadata": {
        "id": "-OJ2ma6KU_Ww"
      }
    },
    {
      "cell_type": "code",
      "source": [
        "I(4) & T( (1,1,4) )"
      ],
      "metadata": {
        "colab": {
          "base_uri": "https://localhost:8080/",
          "height": 46
        },
        "id": "uM-KcP4MUvYT",
        "outputId": "75202f16-0203-40e6-d7d9-598e85eed853"
      },
      "execution_count": 10,
      "outputs": [
        {
          "output_type": "execute_result",
          "data": {
            "text/plain": [
              "Matrix([Vector([1, 0, 0, 0]), Vector([0, 1, 0, 0]), Vector([0, 0, 1, 0]), Vector([1, 0, 0, 1])])"
            ],
            "text/html": [
              "<p style=\"text-align:center;\">$\\left[ \\begin{array}{cccc}1&0&0&1\\\\0&1&0&0\\\\0&0&1&0\\\\0&0&0&1\\\\ \\end{array} \\right]$</p>"
            ],
            "image/png": "$\\left[ \\begin{array}{cccc}1&0&0&1\\\\0&1&0&0\\\\0&0&1&0\\\\0&0&0&1\\\\ \\end{array} \\right]$",
            "text/latex": "$\\left[ \\begin{array}{cccc}1&0&0&1\\\\0&1&0&0\\\\0&0&1&0\\\\0&0&0&1\\\\ \\end{array} \\right]$"
          },
          "metadata": {},
          "execution_count": 10
        }
      ]
    },
    {
      "cell_type": "markdown",
      "source": [
        "$\\left[ \\begin{array}{cccc}1&0&0&1\\\\0&1&0&0\\\\0&0&1&0\\\\0&0&0&1\\\\ \\end{array} \\right]$"
      ],
      "metadata": {
        "id": "NWuJ5QvkVBwe"
      }
    },
    {
      "cell_type": "code",
      "source": [
        "I(4) & T( (3,2,1) )"
      ],
      "metadata": {
        "colab": {
          "base_uri": "https://localhost:8080/",
          "height": 46
        },
        "id": "liMaZw7TUyyq",
        "outputId": "5e34fb47-2321-4af5-b5bd-a95e52a3b8cb"
      },
      "execution_count": 11,
      "outputs": [
        {
          "output_type": "execute_result",
          "data": {
            "text/plain": [
              "Matrix([Vector([1, 3, 0, 0]), Vector([0, 1, 0, 0]), Vector([0, 0, 1, 0]), Vector([0, 0, 0, 1])])"
            ],
            "text/html": [
              "<p style=\"text-align:center;\">$\\left[ \\begin{array}{cccc}1&0&0&0\\\\3&1&0&0\\\\0&0&1&0\\\\0&0&0&1\\\\ \\end{array} \\right]$</p>"
            ],
            "image/png": "$\\left[ \\begin{array}{cccc}1&0&0&0\\\\3&1&0&0\\\\0&0&1&0\\\\0&0&0&1\\\\ \\end{array} \\right]$",
            "text/latex": "$\\left[ \\begin{array}{cccc}1&0&0&0\\\\3&1&0&0\\\\0&0&1&0\\\\0&0&0&1\\\\ \\end{array} \\right]$"
          },
          "metadata": {},
          "execution_count": 11
        }
      ]
    },
    {
      "cell_type": "markdown",
      "source": [
        "$\\left[ \\begin{array}{cccc}1&0&0&0\\\\3&1&0&0\\\\0&0&1&0\\\\0&0&0&1\\\\ \\end{array} \\right]$"
      ],
      "metadata": {
        "id": "Xw7htce3VImy"
      }
    },
    {
      "cell_type": "code",
      "source": [
        "I(4) & T( (-10,3) )"
      ],
      "metadata": {
        "colab": {
          "base_uri": "https://localhost:8080/",
          "height": 46
        },
        "id": "Ybo7-7npU5oI",
        "outputId": "883ee06f-3cdb-42ea-be20-9385dbc306eb"
      },
      "execution_count": 12,
      "outputs": [
        {
          "output_type": "execute_result",
          "data": {
            "text/plain": [
              "Matrix([Vector([1, 0, 0, 0]), Vector([0, 1, 0, 0]), Vector([0, 0, -10, 0]), Vector([0, 0, 0, 1])])"
            ],
            "text/html": [
              "<p style=\"text-align:center;\">$\\left[ \\begin{array}{cccc}1&0&0&0\\\\0&1&0&0\\\\0&0&-10&0\\\\0&0&0&1\\\\ \\end{array} \\right]$</p>"
            ],
            "image/png": "$\\left[ \\begin{array}{cccc}1&0&0&0\\\\0&1&0&0\\\\0&0&-10&0\\\\0&0&0&1\\\\ \\end{array} \\right]$",
            "text/latex": "$\\left[ \\begin{array}{cccc}1&0&0&0\\\\0&1&0&0\\\\0&0&-10&0\\\\0&0&0&1\\\\ \\end{array} \\right]$"
          },
          "metadata": {},
          "execution_count": 12
        }
      ]
    },
    {
      "cell_type": "markdown",
      "source": [
        "$\\left[ \\begin{array}{cccc}1&0&0&0\\\\0&1&0&0\\\\0&0&-10&0\\\\0&0&0&1\\\\ \\end{array} \\right]$"
      ],
      "metadata": {
        "id": "-JXCXDljVMMI"
      }
    },
    {
      "cell_type": "markdown",
      "source": [
        "3. Sea la matriz A = $\\left[ \\begin{array}{cccc}1&1&1&1\\\\0&1&1&1\\\\1&2&3&4\\\\4&-4&1&2\\\\ \\end{array} \\right]$\n",
        ", exprese las siguientes transformaciones elementales de\n",
        "\n",
        "A como productos de A por matrices elementales y escriba el resultado:\n",
        "\n",
        "(a) Multiplicar la primera columna por 3. (b) Restar la primera columna de la segunda."
      ],
      "metadata": {
        "id": "pwJzrogtFnkN"
      }
    },
    {
      "cell_type": "code",
      "source": [
        "w= Vector((1,0,1,4)); x=Vector((1,1,2,-4)); y= Vector((1,1,3,1)); z= Vector((1,1,4,2))\n",
        "A= Matrix([w,x,y,z])\n",
        "A"
      ],
      "metadata": {
        "colab": {
          "base_uri": "https://localhost:8080/",
          "height": 46
        },
        "id": "EIClnLIZViK5",
        "outputId": "ab17890f-1d1e-4cc3-c127-0dcbcfd90fa3"
      },
      "execution_count": 13,
      "outputs": [
        {
          "output_type": "execute_result",
          "data": {
            "text/plain": [
              "Matrix([Vector([1, 0, 1, 4]), Vector([1, 1, 2, -4]), Vector([1, 1, 3, 1]), Vector([1, 1, 4, 2])])"
            ],
            "text/html": [
              "<p style=\"text-align:center;\">$\\left[ \\begin{array}{cccc}1&1&1&1\\\\0&1&1&1\\\\1&2&3&4\\\\4&-4&1&2\\\\ \\end{array} \\right]$</p>"
            ],
            "image/png": "$\\left[ \\begin{array}{cccc}1&1&1&1\\\\0&1&1&1\\\\1&2&3&4\\\\4&-4&1&2\\\\ \\end{array} \\right]$",
            "text/latex": "$\\left[ \\begin{array}{cccc}1&1&1&1\\\\0&1&1&1\\\\1&2&3&4\\\\4&-4&1&2\\\\ \\end{array} \\right]$"
          },
          "metadata": {},
          "execution_count": 13
        }
      ]
    },
    {
      "cell_type": "markdown",
      "source": [
        "$\\left[ \\begin{array}{cccc}1&1&1&1\\\\0&1&1&1\\\\1&2&3&4\\\\4&-4&1&2\\\\ \\end{array} \\right]$"
      ],
      "metadata": {
        "id": "F8YCrN84V-gT"
      }
    },
    {
      "cell_type": "code",
      "source": [
        "A=A * ( I(A.n) &  T((3,1)) )\n",
        "A"
      ],
      "metadata": {
        "colab": {
          "base_uri": "https://localhost:8080/",
          "height": 46
        },
        "id": "yiqs-esbVpDk",
        "outputId": "aafc532c-061a-4af8-a8ae-4bc0a4bc48df"
      },
      "execution_count": 14,
      "outputs": [
        {
          "output_type": "execute_result",
          "data": {
            "text/plain": [
              "Matrix([Vector([3, 0, 3, 12]), Vector([1, 1, 2, -4]), Vector([1, 1, 3, 1]), Vector([1, 1, 4, 2])])"
            ],
            "text/html": [
              "<p style=\"text-align:center;\">$\\left[ \\begin{array}{cccc}3&1&1&1\\\\0&1&1&1\\\\3&2&3&4\\\\12&-4&1&2\\\\ \\end{array} \\right]$</p>"
            ],
            "image/png": "$\\left[ \\begin{array}{cccc}3&1&1&1\\\\0&1&1&1\\\\3&2&3&4\\\\12&-4&1&2\\\\ \\end{array} \\right]$",
            "text/latex": "$\\left[ \\begin{array}{cccc}3&1&1&1\\\\0&1&1&1\\\\3&2&3&4\\\\12&-4&1&2\\\\ \\end{array} \\right]$"
          },
          "metadata": {},
          "execution_count": 14
        }
      ]
    },
    {
      "cell_type": "markdown",
      "source": [
        "$\\left[ \\begin{array}{cccc}3&1&1&1\\\\0&1&1&1\\\\3&2&3&4\\\\12&-4&1&2\\\\ \\end{array} \\right]$"
      ],
      "metadata": {
        "id": "9PUeRe9iWBo2"
      }
    },
    {
      "cell_type": "code",
      "source": [
        "A=A * ( I(A.n) &  T((-1,1,2)) )\n",
        "A"
      ],
      "metadata": {
        "colab": {
          "base_uri": "https://localhost:8080/",
          "height": 46
        },
        "id": "CNvtZ55GVr7o",
        "outputId": "7e08ed6c-c337-4ec8-9f4a-69ff38f02e29"
      },
      "execution_count": 15,
      "outputs": [
        {
          "output_type": "execute_result",
          "data": {
            "text/plain": [
              "Matrix([Vector([3, 0, 3, 12]), Vector([-2, 1, -1, -16]), Vector([1, 1, 3, 1]), Vector([1, 1, 4, 2])])"
            ],
            "text/html": [
              "<p style=\"text-align:center;\">$\\left[ \\begin{array}{cccc}3&-2&1&1\\\\0&1&1&1\\\\3&-1&3&4\\\\12&-16&1&2\\\\ \\end{array} \\right]$</p>"
            ],
            "image/png": "$\\left[ \\begin{array}{cccc}3&-2&1&1\\\\0&1&1&1\\\\3&-1&3&4\\\\12&-16&1&2\\\\ \\end{array} \\right]$",
            "text/latex": "$\\left[ \\begin{array}{cccc}3&-2&1&1\\\\0&1&1&1\\\\3&-1&3&4\\\\12&-16&1&2\\\\ \\end{array} \\right]$"
          },
          "metadata": {},
          "execution_count": 15
        }
      ]
    },
    {
      "cell_type": "markdown",
      "source": [
        "$\\left[ \\begin{array}{cccc}3&-2&1&1\\\\0&1&1&1\\\\3&-1&3&4\\\\12&-16&1&2\\\\ \\end{array} \\right]$"
      ],
      "metadata": {
        "id": "PeAZlBdDWDzV"
      }
    },
    {
      "cell_type": "markdown",
      "source": [
        "4. Realiza el algoritmo de eliminación de Gauss-Jordan para la matriz del ejercicio 1, es decir continua las modificaciones de la matriz mediante operaciones elementales.\n",
        "Por cada paso del algoritmo escribe la celda de código correspondiente."
      ],
      "metadata": {
        "id": "NRMqK0VmB6px"
      }
    },
    {
      "cell_type": "code",
      "source": [
        "w= Vector((3,1,1,4)); x=Vector((-2,-1,1,-4)); y= Vector((2,-1,2,1)); z= Vector((1,-3,4,2))\n",
        "N= Matrix([w,x,y,z])\n",
        "N"
      ],
      "metadata": {
        "colab": {
          "base_uri": "https://localhost:8080/",
          "height": 46
        },
        "id": "QUmLWMcqWbU2",
        "outputId": "b2bc4421-baed-4335-cff0-2d63506ac145"
      },
      "execution_count": 16,
      "outputs": [
        {
          "output_type": "execute_result",
          "data": {
            "text/plain": [
              "Matrix([Vector([3, 1, 1, 4]), Vector([-2, -1, 1, -4]), Vector([2, -1, 2, 1]), Vector([1, -3, 4, 2])])"
            ],
            "text/html": [
              "<p style=\"text-align:center;\">$\\left[ \\begin{array}{cccc}3&-2&2&1\\\\1&-1&-1&-3\\\\1&1&2&4\\\\4&-4&1&2\\\\ \\end{array} \\right]$</p>"
            ],
            "image/png": "$\\left[ \\begin{array}{cccc}3&-2&2&1\\\\1&-1&-1&-3\\\\1&1&2&4\\\\4&-4&1&2\\\\ \\end{array} \\right]$",
            "text/latex": "$\\left[ \\begin{array}{cccc}3&-2&2&1\\\\1&-1&-1&-3\\\\1&1&2&4\\\\4&-4&1&2\\\\ \\end{array} \\right]$"
          },
          "metadata": {},
          "execution_count": 16
        }
      ]
    },
    {
      "cell_type": "markdown",
      "source": [
        "$\\left[ \\begin{array}{cccc}3&-2&2&1\\\\1&-1&-1&-3\\\\1&1&2&4\\\\4&-4&1&2\\\\ \\end{array} \\right]$"
      ],
      "metadata": {
        "id": "N3zt-bXmZFHV"
      }
    },
    {
      "cell_type": "code",
      "source": [
        "N&T((3,2))"
      ],
      "metadata": {
        "colab": {
          "base_uri": "https://localhost:8080/",
          "height": 46
        },
        "id": "M64cCS4RWgC0",
        "outputId": "0099a347-593d-4e70-e699-4fb4892b6d5e"
      },
      "execution_count": 17,
      "outputs": [
        {
          "output_type": "execute_result",
          "data": {
            "text/plain": [
              "Matrix([Vector([3, 1, 1, 4]), Vector([-6, -3, 3, -12]), Vector([2, -1, 2, 1]), Vector([1, -3, 4, 2])])"
            ],
            "text/html": [
              "<p style=\"text-align:center;\">$\\left[ \\begin{array}{cccc}3&-6&2&1\\\\1&-3&-1&-3\\\\1&3&2&4\\\\4&-12&1&2\\\\ \\end{array} \\right]$</p>"
            ],
            "image/png": "$\\left[ \\begin{array}{cccc}3&-6&2&1\\\\1&-3&-1&-3\\\\1&3&2&4\\\\4&-12&1&2\\\\ \\end{array} \\right]$",
            "text/latex": "$\\left[ \\begin{array}{cccc}3&-6&2&1\\\\1&-3&-1&-3\\\\1&3&2&4\\\\4&-12&1&2\\\\ \\end{array} \\right]$"
          },
          "metadata": {},
          "execution_count": 17
        }
      ]
    },
    {
      "cell_type": "markdown",
      "source": [
        "$\\left[ \\begin{array}{cccc}3&-6&2&1\\\\1&-3&-1&-3\\\\1&3&2&4\\\\4&-12&1&2\\\\ \\end{array} \\right]$"
      ],
      "metadata": {
        "id": "nreHBALNZIu5"
      }
    },
    {
      "cell_type": "code",
      "source": [
        "N&T((2,1,2))"
      ],
      "metadata": {
        "colab": {
          "base_uri": "https://localhost:8080/",
          "height": 46
        },
        "id": "c7GYSdawWj-j",
        "outputId": "91de550a-0e7f-4a39-e2eb-e962ac289e2f"
      },
      "execution_count": 18,
      "outputs": [
        {
          "output_type": "execute_result",
          "data": {
            "text/plain": [
              "Matrix([Vector([3, 1, 1, 4]), Vector([0, -1, 5, -4]), Vector([2, -1, 2, 1]), Vector([1, -3, 4, 2])])"
            ],
            "text/html": [
              "<p style=\"text-align:center;\">$\\left[ \\begin{array}{cccc}3&0&2&1\\\\1&-1&-1&-3\\\\1&5&2&4\\\\4&-4&1&2\\\\ \\end{array} \\right]$</p>"
            ],
            "image/png": "$\\left[ \\begin{array}{cccc}3&0&2&1\\\\1&-1&-1&-3\\\\1&5&2&4\\\\4&-4&1&2\\\\ \\end{array} \\right]$",
            "text/latex": "$\\left[ \\begin{array}{cccc}3&0&2&1\\\\1&-1&-1&-3\\\\1&5&2&4\\\\4&-4&1&2\\\\ \\end{array} \\right]$"
          },
          "metadata": {},
          "execution_count": 18
        }
      ]
    },
    {
      "cell_type": "markdown",
      "source": [
        "$\\left[ \\begin{array}{cccc}3&0&2&1\\\\1&-1&-1&-3\\\\1&5&2&4\\\\4&-4&1&2\\\\ \\end{array} \\right]$"
      ],
      "metadata": {
        "id": "lDgsgqwGZLxa"
      }
    },
    {
      "cell_type": "code",
      "source": [
        "N&T((3,3))"
      ],
      "metadata": {
        "colab": {
          "base_uri": "https://localhost:8080/",
          "height": 46
        },
        "id": "vO4qJ29xWqsI",
        "outputId": "595faa53-bd05-4806-cb5c-82e69c89cea5"
      },
      "execution_count": 19,
      "outputs": [
        {
          "output_type": "execute_result",
          "data": {
            "text/plain": [
              "Matrix([Vector([3, 1, 1, 4]), Vector([0, -1, 5, -4]), Vector([6, -3, 6, 3]), Vector([1, -3, 4, 2])])"
            ],
            "text/html": [
              "<p style=\"text-align:center;\">$\\left[ \\begin{array}{cccc}3&0&6&1\\\\1&-1&-3&-3\\\\1&5&6&4\\\\4&-4&3&2\\\\ \\end{array} \\right]$</p>"
            ],
            "image/png": "$\\left[ \\begin{array}{cccc}3&0&6&1\\\\1&-1&-3&-3\\\\1&5&6&4\\\\4&-4&3&2\\\\ \\end{array} \\right]$",
            "text/latex": "$\\left[ \\begin{array}{cccc}3&0&6&1\\\\1&-1&-3&-3\\\\1&5&6&4\\\\4&-4&3&2\\\\ \\end{array} \\right]$"
          },
          "metadata": {},
          "execution_count": 19
        }
      ]
    },
    {
      "cell_type": "markdown",
      "source": [
        "$\\left[ \\begin{array}{cccc}3&0&6&1\\\\1&-1&-3&-3\\\\1&5&6&4\\\\4&-4&3&2\\\\ \\end{array} \\right]$"
      ],
      "metadata": {
        "id": "K5qWhgjXZCqj"
      }
    },
    {
      "cell_type": "code",
      "source": [
        "N&T((-2,1,3))"
      ],
      "metadata": {
        "colab": {
          "base_uri": "https://localhost:8080/",
          "height": 46
        },
        "id": "wJAEZX6OW2Cs",
        "outputId": "48bbe025-1e71-45e1-ef86-2157df8eaf61"
      },
      "execution_count": 20,
      "outputs": [
        {
          "output_type": "execute_result",
          "data": {
            "text/plain": [
              "Matrix([Vector([3, 1, 1, 4]), Vector([0, -1, 5, -4]), Vector([0, -5, 4, -5]), Vector([1, -3, 4, 2])])"
            ],
            "text/html": [
              "<p style=\"text-align:center;\">$\\left[ \\begin{array}{cccc}3&0&0&1\\\\1&-1&-5&-3\\\\1&5&4&4\\\\4&-4&-5&2\\\\ \\end{array} \\right]$</p>"
            ],
            "image/png": "$\\left[ \\begin{array}{cccc}3&0&0&1\\\\1&-1&-5&-3\\\\1&5&4&4\\\\4&-4&-5&2\\\\ \\end{array} \\right]$",
            "text/latex": "$\\left[ \\begin{array}{cccc}3&0&0&1\\\\1&-1&-5&-3\\\\1&5&4&4\\\\4&-4&-5&2\\\\ \\end{array} \\right]$"
          },
          "metadata": {},
          "execution_count": 20
        }
      ]
    },
    {
      "cell_type": "markdown",
      "source": [
        "$\\left[ \\begin{array}{cccc}3&0&0&1\\\\1&-1&-5&-3\\\\1&5&4&4\\\\4&-4&-5&2\\\\ \\end{array} \\right]$"
      ],
      "metadata": {
        "id": "IC3ZloXZZUX7"
      }
    },
    {
      "cell_type": "code",
      "source": [
        "N&T((3,4))"
      ],
      "metadata": {
        "colab": {
          "base_uri": "https://localhost:8080/",
          "height": 46
        },
        "id": "fG7EDoOOXVQ0",
        "outputId": "64d72acd-de00-4dd8-8d4b-5ae8729afa4b"
      },
      "execution_count": 21,
      "outputs": [
        {
          "output_type": "execute_result",
          "data": {
            "text/plain": [
              "Matrix([Vector([3, 1, 1, 4]), Vector([0, -1, 5, -4]), Vector([0, -5, 4, -5]), Vector([3, -9, 12, 6])])"
            ],
            "text/html": [
              "<p style=\"text-align:center;\">$\\left[ \\begin{array}{cccc}3&0&0&3\\\\1&-1&-5&-9\\\\1&5&4&12\\\\4&-4&-5&6\\\\ \\end{array} \\right]$</p>"
            ],
            "image/png": "$\\left[ \\begin{array}{cccc}3&0&0&3\\\\1&-1&-5&-9\\\\1&5&4&12\\\\4&-4&-5&6\\\\ \\end{array} \\right]$",
            "text/latex": "$\\left[ \\begin{array}{cccc}3&0&0&3\\\\1&-1&-5&-9\\\\1&5&4&12\\\\4&-4&-5&6\\\\ \\end{array} \\right]$"
          },
          "metadata": {},
          "execution_count": 21
        }
      ]
    },
    {
      "cell_type": "markdown",
      "source": [
        "$\\left[ \\begin{array}{cccc}3&0&0&3\\\\1&-1&-5&-9\\\\1&5&4&12\\\\4&-4&-5&6\\\\ \\end{array} \\right]$"
      ],
      "metadata": {
        "id": "mvESK83wZWsK"
      }
    },
    {
      "cell_type": "code",
      "source": [
        "N&T((-1,1,4))"
      ],
      "metadata": {
        "colab": {
          "base_uri": "https://localhost:8080/",
          "height": 46
        },
        "id": "e6Q1lxYIXZjn",
        "outputId": "972470a6-e274-40b5-fb24-8a7163488c76"
      },
      "execution_count": 22,
      "outputs": [
        {
          "output_type": "execute_result",
          "data": {
            "text/plain": [
              "Matrix([Vector([3, 1, 1, 4]), Vector([0, -1, 5, -4]), Vector([0, -5, 4, -5]), Vector([0, -10, 11, 2])])"
            ],
            "text/html": [
              "<p style=\"text-align:center;\">$\\left[ \\begin{array}{cccc}3&0&0&0\\\\1&-1&-5&-10\\\\1&5&4&11\\\\4&-4&-5&2\\\\ \\end{array} \\right]$</p>"
            ],
            "image/png": "$\\left[ \\begin{array}{cccc}3&0&0&0\\\\1&-1&-5&-10\\\\1&5&4&11\\\\4&-4&-5&2\\\\ \\end{array} \\right]$",
            "text/latex": "$\\left[ \\begin{array}{cccc}3&0&0&0\\\\1&-1&-5&-10\\\\1&5&4&11\\\\4&-4&-5&2\\\\ \\end{array} \\right]$"
          },
          "metadata": {},
          "execution_count": 22
        }
      ]
    },
    {
      "cell_type": "markdown",
      "source": [
        "$\\left[ \\begin{array}{cccc}3&0&0&0\\\\1&-1&-5&-10\\\\1&5&4&11\\\\4&-4&-5&2\\\\ \\end{array} \\right]$"
      ],
      "metadata": {
        "id": "lS1MsIGvZZ0X"
      }
    },
    {
      "cell_type": "code",
      "source": [
        "N&T((1,2,1))"
      ],
      "metadata": {
        "colab": {
          "base_uri": "https://localhost:8080/",
          "height": 46
        },
        "id": "bgAxnIf_XjUY",
        "outputId": "a6cae95d-da66-4b94-b1ea-62b289f2b121"
      },
      "execution_count": 23,
      "outputs": [
        {
          "output_type": "execute_result",
          "data": {
            "text/plain": [
              "Matrix([Vector([3, 0, 6, 0]), Vector([0, -1, 5, -4]), Vector([0, -5, 4, -5]), Vector([0, -10, 11, 2])])"
            ],
            "text/html": [
              "<p style=\"text-align:center;\">$\\left[ \\begin{array}{cccc}3&0&0&0\\\\0&-1&-5&-10\\\\6&5&4&11\\\\0&-4&-5&2\\\\ \\end{array} \\right]$</p>"
            ],
            "image/png": "$\\left[ \\begin{array}{cccc}3&0&0&0\\\\0&-1&-5&-10\\\\6&5&4&11\\\\0&-4&-5&2\\\\ \\end{array} \\right]$",
            "text/latex": "$\\left[ \\begin{array}{cccc}3&0&0&0\\\\0&-1&-5&-10\\\\6&5&4&11\\\\0&-4&-5&2\\\\ \\end{array} \\right]$"
          },
          "metadata": {},
          "execution_count": 23
        }
      ]
    },
    {
      "cell_type": "markdown",
      "source": [
        "$\\left[ \\begin{array}{cccc}3&0&0&0\\\\0&-1&-5&-10\\\\6&5&4&11\\\\0&-4&-5&2\\\\ \\end{array} \\right]$"
      ],
      "metadata": {
        "id": "4hjr3mBWZfLd"
      }
    },
    {
      "cell_type": "code",
      "source": [
        "N&T((-5,2,3))"
      ],
      "metadata": {
        "colab": {
          "base_uri": "https://localhost:8080/",
          "height": 46
        },
        "id": "LVH__RhhXl1n",
        "outputId": "c5a57a20-54c9-4c03-9bf2-d8879791e432"
      },
      "execution_count": 24,
      "outputs": [
        {
          "output_type": "execute_result",
          "data": {
            "text/plain": [
              "Matrix([Vector([3, 0, 6, 0]), Vector([0, -1, 5, -4]), Vector([0, 0, -21, 15]), Vector([0, -10, 11, 2])])"
            ],
            "text/html": [
              "<p style=\"text-align:center;\">$\\left[ \\begin{array}{cccc}3&0&0&0\\\\0&-1&0&-10\\\\6&5&-21&11\\\\0&-4&15&2\\\\ \\end{array} \\right]$</p>"
            ],
            "image/png": "$\\left[ \\begin{array}{cccc}3&0&0&0\\\\0&-1&0&-10\\\\6&5&-21&11\\\\0&-4&15&2\\\\ \\end{array} \\right]$",
            "text/latex": "$\\left[ \\begin{array}{cccc}3&0&0&0\\\\0&-1&0&-10\\\\6&5&-21&11\\\\0&-4&15&2\\\\ \\end{array} \\right]$"
          },
          "metadata": {},
          "execution_count": 24
        }
      ]
    },
    {
      "cell_type": "markdown",
      "source": [
        "$\\left[ \\begin{array}{cccc}3&0&0&0\\\\0&-1&0&-10\\\\6&5&-21&11\\\\0&-4&15&2\\\\ \\end{array} \\right]$"
      ],
      "metadata": {
        "id": "L-2J-n5IZiDV"
      }
    },
    {
      "cell_type": "code",
      "source": [
        "N&T((-10,2,4))"
      ],
      "metadata": {
        "colab": {
          "base_uri": "https://localhost:8080/",
          "height": 46
        },
        "id": "KxrDpq6lXpxX",
        "outputId": "36f825d7-2d1d-4f49-8160-ea743919d93e"
      },
      "execution_count": 25,
      "outputs": [
        {
          "output_type": "execute_result",
          "data": {
            "text/plain": [
              "Matrix([Vector([3, 0, 6, 0]), Vector([0, -1, 5, -4]), Vector([0, 0, -21, 15]), Vector([0, 0, -39, 42])])"
            ],
            "text/html": [
              "<p style=\"text-align:center;\">$\\left[ \\begin{array}{cccc}3&0&0&0\\\\0&-1&0&0\\\\6&5&-21&-39\\\\0&-4&15&42\\\\ \\end{array} \\right]$</p>"
            ],
            "image/png": "$\\left[ \\begin{array}{cccc}3&0&0&0\\\\0&-1&0&0\\\\6&5&-21&-39\\\\0&-4&15&42\\\\ \\end{array} \\right]$",
            "text/latex": "$\\left[ \\begin{array}{cccc}3&0&0&0\\\\0&-1&0&0\\\\6&5&-21&-39\\\\0&-4&15&42\\\\ \\end{array} \\right]$"
          },
          "metadata": {},
          "execution_count": 25
        }
      ]
    },
    {
      "cell_type": "markdown",
      "source": [
        "$\\left[ \\begin{array}{cccc}3&0&0&0\\\\0&-1&0&0\\\\6&5&-21&-39\\\\0&-4&15&42\\\\ \\end{array} \\right]$"
      ],
      "metadata": {
        "id": "_BsL_0odZkdr"
      }
    },
    {
      "cell_type": "code",
      "source": [
        "N&T((7,1))"
      ],
      "metadata": {
        "colab": {
          "base_uri": "https://localhost:8080/",
          "height": 46
        },
        "id": "MzZZlikhXqUM",
        "outputId": "a66c3e5b-237c-4d03-fec9-ebf8d2d146c7"
      },
      "execution_count": 26,
      "outputs": [
        {
          "output_type": "execute_result",
          "data": {
            "text/plain": [
              "Matrix([Vector([21, 0, 42, 0]), Vector([0, -1, 5, -4]), Vector([0, 0, -21, 15]), Vector([0, 0, -39, 42])])"
            ],
            "text/html": [
              "<p style=\"text-align:center;\">$\\left[ \\begin{array}{cccc}21&0&0&0\\\\0&-1&0&0\\\\42&5&-21&-39\\\\0&-4&15&42\\\\ \\end{array} \\right]$</p>"
            ],
            "image/png": "$\\left[ \\begin{array}{cccc}21&0&0&0\\\\0&-1&0&0\\\\42&5&-21&-39\\\\0&-4&15&42\\\\ \\end{array} \\right]$",
            "text/latex": "$\\left[ \\begin{array}{cccc}21&0&0&0\\\\0&-1&0&0\\\\42&5&-21&-39\\\\0&-4&15&42\\\\ \\end{array} \\right]$"
          },
          "metadata": {},
          "execution_count": 26
        }
      ]
    },
    {
      "cell_type": "markdown",
      "source": [
        "$\\left[ \\begin{array}{cccc}21&0&0&0\\\\0&-1&0&0\\\\42&5&-21&-39\\\\0&-4&15&42\\\\ \\end{array} \\right]$"
      ],
      "metadata": {
        "id": "V5myUYnWZnR5"
      }
    },
    {
      "cell_type": "code",
      "source": [
        "N&T((2,3,1))"
      ],
      "metadata": {
        "colab": {
          "base_uri": "https://localhost:8080/",
          "height": 46
        },
        "id": "KjvB7z4XXtta",
        "outputId": "19722792-6e4e-465b-bd77-83c1e201e8a7"
      },
      "execution_count": 27,
      "outputs": [
        {
          "output_type": "execute_result",
          "data": {
            "text/plain": [
              "Matrix([Vector([21, 0, 0, 30]), Vector([0, -1, 5, -4]), Vector([0, 0, -21, 15]), Vector([0, 0, -39, 42])])"
            ],
            "text/html": [
              "<p style=\"text-align:center;\">$\\left[ \\begin{array}{cccc}21&0&0&0\\\\0&-1&0&0\\\\0&5&-21&-39\\\\30&-4&15&42\\\\ \\end{array} \\right]$</p>"
            ],
            "image/png": "$\\left[ \\begin{array}{cccc}21&0&0&0\\\\0&-1&0&0\\\\0&5&-21&-39\\\\30&-4&15&42\\\\ \\end{array} \\right]$",
            "text/latex": "$\\left[ \\begin{array}{cccc}21&0&0&0\\\\0&-1&0&0\\\\0&5&-21&-39\\\\30&-4&15&42\\\\ \\end{array} \\right]$"
          },
          "metadata": {},
          "execution_count": 27
        }
      ]
    },
    {
      "cell_type": "markdown",
      "source": [
        "$\\left[ \\begin{array}{cccc}21&0&0&0\\\\0&-1&0&0\\\\0&5&-21&-39\\\\30&-4&15&42\\\\ \\end{array} \\right]$"
      ],
      "metadata": {
        "id": "eHmQGVjoZ1Vs"
      }
    },
    {
      "cell_type": "code",
      "source": [
        "N&T((21,2))"
      ],
      "metadata": {
        "colab": {
          "base_uri": "https://localhost:8080/",
          "height": 46
        },
        "id": "ONca1WqbXvtO",
        "outputId": "bd79f00e-2aed-4d1d-f531-5232a29e2bbb"
      },
      "execution_count": 28,
      "outputs": [
        {
          "output_type": "execute_result",
          "data": {
            "text/plain": [
              "Matrix([Vector([21, 0, 0, 30]), Vector([0, -21, 105, -84]), Vector([0, 0, -21, 15]), Vector([0, 0, -39, 42])])"
            ],
            "text/html": [
              "<p style=\"text-align:center;\">$\\left[ \\begin{array}{cccc}21&0&0&0\\\\0&-21&0&0\\\\0&105&-21&-39\\\\30&-84&15&42\\\\ \\end{array} \\right]$</p>"
            ],
            "image/png": "$\\left[ \\begin{array}{cccc}21&0&0&0\\\\0&-21&0&0\\\\0&105&-21&-39\\\\30&-84&15&42\\\\ \\end{array} \\right]$",
            "text/latex": "$\\left[ \\begin{array}{cccc}21&0&0&0\\\\0&-21&0&0\\\\0&105&-21&-39\\\\30&-84&15&42\\\\ \\end{array} \\right]$"
          },
          "metadata": {},
          "execution_count": 28
        }
      ]
    },
    {
      "cell_type": "markdown",
      "source": [
        "$\\left[ \\begin{array}{cccc}21&0&0&0\\\\0&-21&0&0\\\\0&105&-21&-39\\\\30&-84&15&42\\\\ \\end{array} \\right]$"
      ],
      "metadata": {
        "id": "mvGdtMt3Z3mY"
      }
    },
    {
      "cell_type": "code",
      "source": [
        "N&T((5,3,2))"
      ],
      "metadata": {
        "colab": {
          "base_uri": "https://localhost:8080/",
          "height": 46
        },
        "id": "QwQS-dfVXyKK",
        "outputId": "4bda89ff-3661-4445-f553-5471f3e54931"
      },
      "execution_count": 29,
      "outputs": [
        {
          "output_type": "execute_result",
          "data": {
            "text/plain": [
              "Matrix([Vector([21, 0, 0, 30]), Vector([0, -21, 0, -9]), Vector([0, 0, -21, 15]), Vector([0, 0, -39, 42])])"
            ],
            "text/html": [
              "<p style=\"text-align:center;\">$\\left[ \\begin{array}{cccc}21&0&0&0\\\\0&-21&0&0\\\\0&0&-21&-39\\\\30&-9&15&42\\\\ \\end{array} \\right]$</p>"
            ],
            "image/png": "$\\left[ \\begin{array}{cccc}21&0&0&0\\\\0&-21&0&0\\\\0&0&-21&-39\\\\30&-9&15&42\\\\ \\end{array} \\right]$",
            "text/latex": "$\\left[ \\begin{array}{cccc}21&0&0&0\\\\0&-21&0&0\\\\0&0&-21&-39\\\\30&-9&15&42\\\\ \\end{array} \\right]$"
          },
          "metadata": {},
          "execution_count": 29
        }
      ]
    },
    {
      "cell_type": "markdown",
      "source": [
        "$\\left[ \\begin{array}{cccc}21&0&0&0\\\\0&-21&0&0\\\\0&0&-21&-39\\\\30&-9&15&42\\\\ \\end{array} \\right]$"
      ],
      "metadata": {
        "id": "rKJHT-GvZ5p8"
      }
    },
    {
      "cell_type": "code",
      "source": [
        "N&T((7,4))"
      ],
      "metadata": {
        "colab": {
          "base_uri": "https://localhost:8080/",
          "height": 46
        },
        "id": "gpNynMX-X0Vp",
        "outputId": "ad5ea770-6dbd-4fb7-8426-f375b7f909ae"
      },
      "execution_count": 30,
      "outputs": [
        {
          "output_type": "execute_result",
          "data": {
            "text/plain": [
              "Matrix([Vector([21, 0, 0, 30]), Vector([0, -21, 0, -9]), Vector([0, 0, -21, 15]), Vector([0, 0, -273, 294])])"
            ],
            "text/html": [
              "<p style=\"text-align:center;\">$\\left[ \\begin{array}{cccc}21&0&0&0\\\\0&-21&0&0\\\\0&0&-21&-273\\\\30&-9&15&294\\\\ \\end{array} \\right]$</p>"
            ],
            "image/png": "$\\left[ \\begin{array}{cccc}21&0&0&0\\\\0&-21&0&0\\\\0&0&-21&-273\\\\30&-9&15&294\\\\ \\end{array} \\right]$",
            "text/latex": "$\\left[ \\begin{array}{cccc}21&0&0&0\\\\0&-21&0&0\\\\0&0&-21&-273\\\\30&-9&15&294\\\\ \\end{array} \\right]$"
          },
          "metadata": {},
          "execution_count": 30
        }
      ]
    },
    {
      "cell_type": "markdown",
      "source": [
        "$\\left[ \\begin{array}{cccc}21&0&0&0\\\\0&-21&0&0\\\\0&0&-21&-273\\\\30&-9&15&294\\\\ \\end{array} \\right]$"
      ],
      "metadata": {
        "id": "H7r1DijMZ7x6"
      }
    },
    {
      "cell_type": "code",
      "source": [
        "N&T((-13,3,4))"
      ],
      "metadata": {
        "colab": {
          "base_uri": "https://localhost:8080/",
          "height": 46
        },
        "id": "ThhBOAx_X0d2",
        "outputId": "ae7f4557-c756-4b55-d417-ed228dd506e5"
      },
      "execution_count": 31,
      "outputs": [
        {
          "output_type": "execute_result",
          "data": {
            "text/plain": [
              "Matrix([Vector([21, 0, 0, 30]), Vector([0, -21, 0, -9]), Vector([0, 0, -21, 15]), Vector([0, 0, 0, 99])])"
            ],
            "text/html": [
              "<p style=\"text-align:center;\">$\\left[ \\begin{array}{cccc}21&0&0&0\\\\0&-21&0&0\\\\0&0&-21&0\\\\30&-9&15&99\\\\ \\end{array} \\right]$</p>"
            ],
            "image/png": "$\\left[ \\begin{array}{cccc}21&0&0&0\\\\0&-21&0&0\\\\0&0&-21&0\\\\30&-9&15&99\\\\ \\end{array} \\right]$",
            "text/latex": "$\\left[ \\begin{array}{cccc}21&0&0&0\\\\0&-21&0&0\\\\0&0&-21&0\\\\30&-9&15&99\\\\ \\end{array} \\right]$"
          },
          "metadata": {},
          "execution_count": 31
        }
      ]
    },
    {
      "cell_type": "markdown",
      "source": [
        "$\\left[ \\begin{array}{cccc}21&0&0&0\\\\0&-21&0&0\\\\0&0&-21&0\\\\30&-9&15&99\\\\ \\end{array} \\right]$"
      ],
      "metadata": {
        "id": "JpbyurfxZ9qy"
      }
    },
    {
      "cell_type": "code",
      "source": [
        "N&T((33,1))"
      ],
      "metadata": {
        "colab": {
          "base_uri": "https://localhost:8080/",
          "height": 46
        },
        "id": "rMIU0ueoX58A",
        "outputId": "54ee277c-bb51-4749-890d-c628e98b1341"
      },
      "execution_count": 32,
      "outputs": [
        {
          "output_type": "execute_result",
          "data": {
            "text/plain": [
              "Matrix([Vector([693, 0, 0, 990]), Vector([0, -21, 0, -9]), Vector([0, 0, -21, 15]), Vector([0, 0, 0, 99])])"
            ],
            "text/html": [
              "<p style=\"text-align:center;\">$\\left[ \\begin{array}{cccc}693&0&0&0\\\\0&-21&0&0\\\\0&0&-21&0\\\\990&-9&15&99\\\\ \\end{array} \\right]$</p>"
            ],
            "image/png": "$\\left[ \\begin{array}{cccc}693&0&0&0\\\\0&-21&0&0\\\\0&0&-21&0\\\\990&-9&15&99\\\\ \\end{array} \\right]$",
            "text/latex": "$\\left[ \\begin{array}{cccc}693&0&0&0\\\\0&-21&0&0\\\\0&0&-21&0\\\\990&-9&15&99\\\\ \\end{array} \\right]$"
          },
          "metadata": {},
          "execution_count": 32
        }
      ]
    },
    {
      "cell_type": "markdown",
      "source": [
        "$\\left[ \\begin{array}{cccc}693&0&0&0\\\\0&-21&0&0\\\\0&0&-21&0\\\\990&-9&15&99\\\\ \\end{array} \\right]$"
      ],
      "metadata": {
        "id": "0gNa_gl1Z_r9"
      }
    },
    {
      "cell_type": "code",
      "source": [
        "N&T((-10,4,1))"
      ],
      "metadata": {
        "colab": {
          "base_uri": "https://localhost:8080/",
          "height": 46
        },
        "id": "LGUIAR0pX8gt",
        "outputId": "4c252343-e751-4ab5-adf1-fd4a08933b0f"
      },
      "execution_count": 33,
      "outputs": [
        {
          "output_type": "execute_result",
          "data": {
            "text/plain": [
              "Matrix([Vector([693, 0, 0, 0]), Vector([0, -21, 0, -9]), Vector([0, 0, -21, 15]), Vector([0, 0, 0, 99])])"
            ],
            "text/html": [
              "<p style=\"text-align:center;\">$\\left[ \\begin{array}{cccc}693&0&0&0\\\\0&-21&0&0\\\\0&0&-21&0\\\\0&-9&15&99\\\\ \\end{array} \\right]$</p>"
            ],
            "image/png": "$\\left[ \\begin{array}{cccc}693&0&0&0\\\\0&-21&0&0\\\\0&0&-21&0\\\\0&-9&15&99\\\\ \\end{array} \\right]$",
            "text/latex": "$\\left[ \\begin{array}{cccc}693&0&0&0\\\\0&-21&0&0\\\\0&0&-21&0\\\\0&-9&15&99\\\\ \\end{array} \\right]$"
          },
          "metadata": {},
          "execution_count": 33
        }
      ]
    },
    {
      "cell_type": "markdown",
      "source": [
        "$\\left[ \\begin{array}{cccc}693&0&0&0\\\\0&-21&0&0\\\\0&0&-21&0\\\\0&-9&15&99\\\\ \\end{array} \\right]$"
      ],
      "metadata": {
        "id": "oNJZvVvWaCYr"
      }
    },
    {
      "cell_type": "code",
      "source": [
        "N&T((11,2))"
      ],
      "metadata": {
        "colab": {
          "base_uri": "https://localhost:8080/",
          "height": 46
        },
        "id": "sMwTRYl-YARM",
        "outputId": "936fee18-1335-4ee7-f0ec-3271a7c2ad74"
      },
      "execution_count": 34,
      "outputs": [
        {
          "output_type": "execute_result",
          "data": {
            "text/plain": [
              "Matrix([Vector([693, 0, 0, 0]), Vector([0, -231, 0, -99]), Vector([0, 0, -21, 15]), Vector([0, 0, 0, 99])])"
            ],
            "text/html": [
              "<p style=\"text-align:center;\">$\\left[ \\begin{array}{cccc}693&0&0&0\\\\0&-231&0&0\\\\0&0&-21&0\\\\0&-99&15&99\\\\ \\end{array} \\right]$</p>"
            ],
            "image/png": "$\\left[ \\begin{array}{cccc}693&0&0&0\\\\0&-231&0&0\\\\0&0&-21&0\\\\0&-99&15&99\\\\ \\end{array} \\right]$",
            "text/latex": "$\\left[ \\begin{array}{cccc}693&0&0&0\\\\0&-231&0&0\\\\0&0&-21&0\\\\0&-99&15&99\\\\ \\end{array} \\right]$"
          },
          "metadata": {},
          "execution_count": 34
        }
      ]
    },
    {
      "cell_type": "markdown",
      "source": [
        "$\\left[ \\begin{array}{cccc}693&0&0&0\\\\0&-231&0&0\\\\0&0&-21&0\\\\0&-99&15&99\\\\ \\end{array} \\right]$"
      ],
      "metadata": {
        "id": "DHbioitpaEps"
      }
    },
    {
      "cell_type": "code",
      "source": [
        "N&T((1,4,2))"
      ],
      "metadata": {
        "colab": {
          "base_uri": "https://localhost:8080/",
          "height": 46
        },
        "id": "k77hmRO2YC4X",
        "outputId": "f2097540-d0d8-4884-a0c7-5c5fe5d4c4f5"
      },
      "execution_count": 35,
      "outputs": [
        {
          "output_type": "execute_result",
          "data": {
            "text/plain": [
              "Matrix([Vector([693, 0, 0, 0]), Vector([0, -231, 0, 0]), Vector([0, 0, -21, 15]), Vector([0, 0, 0, 99])])"
            ],
            "text/html": [
              "<p style=\"text-align:center;\">$\\left[ \\begin{array}{cccc}693&0&0&0\\\\0&-231&0&0\\\\0&0&-21&0\\\\0&0&15&99\\\\ \\end{array} \\right]$</p>"
            ],
            "image/png": "$\\left[ \\begin{array}{cccc}693&0&0&0\\\\0&-231&0&0\\\\0&0&-21&0\\\\0&0&15&99\\\\ \\end{array} \\right]$",
            "text/latex": "$\\left[ \\begin{array}{cccc}693&0&0&0\\\\0&-231&0&0\\\\0&0&-21&0\\\\0&0&15&99\\\\ \\end{array} \\right]$"
          },
          "metadata": {},
          "execution_count": 35
        }
      ]
    },
    {
      "cell_type": "markdown",
      "source": [
        "$\\left[ \\begin{array}{cccc}693&0&0&0\\\\0&-231&0&0\\\\0&0&-21&0\\\\0&0&15&99\\\\ \\end{array} \\right]$"
      ],
      "metadata": {
        "id": "u9cbLd1JaG4W"
      }
    },
    {
      "cell_type": "code",
      "source": [
        "N&T((33,3))"
      ],
      "metadata": {
        "colab": {
          "base_uri": "https://localhost:8080/",
          "height": 46
        },
        "id": "dhyDmXRdYFmf",
        "outputId": "63232077-a39d-4aff-8dc3-99e28a0f2b0c"
      },
      "execution_count": 36,
      "outputs": [
        {
          "output_type": "execute_result",
          "data": {
            "text/plain": [
              "Matrix([Vector([693, 0, 0, 0]), Vector([0, -231, 0, 0]), Vector([0, 0, -693, 495]), Vector([0, 0, 0, 99])])"
            ],
            "text/html": [
              "<p style=\"text-align:center;\">$\\left[ \\begin{array}{cccc}693&0&0&0\\\\0&-231&0&0\\\\0&0&-693&0\\\\0&0&495&99\\\\ \\end{array} \\right]$</p>"
            ],
            "image/png": "$\\left[ \\begin{array}{cccc}693&0&0&0\\\\0&-231&0&0\\\\0&0&-693&0\\\\0&0&495&99\\\\ \\end{array} \\right]$",
            "text/latex": "$\\left[ \\begin{array}{cccc}693&0&0&0\\\\0&-231&0&0\\\\0&0&-693&0\\\\0&0&495&99\\\\ \\end{array} \\right]$"
          },
          "metadata": {},
          "execution_count": 36
        }
      ]
    },
    {
      "cell_type": "markdown",
      "source": [
        "$\\left[ \\begin{array}{cccc}693&0&0&0\\\\0&-231&0&0\\\\0&0&-693&0\\\\0&0&495&99\\\\ \\end{array} \\right]$"
      ],
      "metadata": {
        "id": "xkPAUc-9aMY1"
      }
    },
    {
      "cell_type": "code",
      "source": [
        "N&T((-5,4,3))"
      ],
      "metadata": {
        "colab": {
          "base_uri": "https://localhost:8080/",
          "height": 46
        },
        "id": "phsBtZg0YIA-",
        "outputId": "ad0982f9-dcdc-452c-c707-3c159756ee17"
      },
      "execution_count": 37,
      "outputs": [
        {
          "output_type": "execute_result",
          "data": {
            "text/plain": [
              "Matrix([Vector([693, 0, 0, 0]), Vector([0, -231, 0, 0]), Vector([0, 0, -693, 0]), Vector([0, 0, 0, 99])])"
            ],
            "text/html": [
              "<p style=\"text-align:center;\">$\\left[ \\begin{array}{cccc}693&0&0&0\\\\0&-231&0&0\\\\0&0&-693&0\\\\0&0&0&99\\\\ \\end{array} \\right]$</p>"
            ],
            "image/png": "$\\left[ \\begin{array}{cccc}693&0&0&0\\\\0&-231&0&0\\\\0&0&-693&0\\\\0&0&0&99\\\\ \\end{array} \\right]$",
            "text/latex": "$\\left[ \\begin{array}{cccc}693&0&0&0\\\\0&-231&0&0\\\\0&0&-693&0\\\\0&0&0&99\\\\ \\end{array} \\right]$"
          },
          "metadata": {},
          "execution_count": 37
        }
      ]
    },
    {
      "cell_type": "markdown",
      "source": [
        "$\\left[ \\begin{array}{cccc}693&0&0&0\\\\0&-231&0&0\\\\0&0&-693&0\\\\0&0&0&99\\\\ \\end{array} \\right]$"
      ],
      "metadata": {
        "id": "Io2cRRGTaSqc"
      }
    },
    {
      "cell_type": "code",
      "source": [
        "N&T((fracc(1,693),1))"
      ],
      "metadata": {
        "colab": {
          "base_uri": "https://localhost:8080/",
          "height": 46
        },
        "id": "wlBgzmhrYJv9",
        "outputId": "0815b360-9c46-4c7b-cb7a-733856ca8d56"
      },
      "execution_count": 38,
      "outputs": [
        {
          "output_type": "execute_result",
          "data": {
            "text/plain": [
              "Matrix([Vector([1, 0, 0, 0]), Vector([0, -231, 0, 0]), Vector([0, 0, -693, 0]), Vector([0, 0, 0, 99])])"
            ],
            "text/html": [
              "<p style=\"text-align:center;\">$\\left[ \\begin{array}{cccc}1&0&0&0\\\\0&-231&0&0\\\\0&0&-693&0\\\\0&0&0&99\\\\ \\end{array} \\right]$</p>"
            ],
            "image/png": "$\\left[ \\begin{array}{cccc}1&0&0&0\\\\0&-231&0&0\\\\0&0&-693&0\\\\0&0&0&99\\\\ \\end{array} \\right]$",
            "text/latex": "$\\left[ \\begin{array}{cccc}1&0&0&0\\\\0&-231&0&0\\\\0&0&-693&0\\\\0&0&0&99\\\\ \\end{array} \\right]$"
          },
          "metadata": {},
          "execution_count": 38
        }
      ]
    },
    {
      "cell_type": "markdown",
      "source": [
        "$\\left[ \\begin{array}{cccc}1&0&0&0\\\\0&-231&0&0\\\\0&0&-693&0\\\\0&0&0&99\\\\ \\end{array} \\right]$"
      ],
      "metadata": {
        "id": "OU9qImJZaVKc"
      }
    },
    {
      "cell_type": "code",
      "source": [
        "N&T((-fracc(1,231),2))"
      ],
      "metadata": {
        "colab": {
          "base_uri": "https://localhost:8080/",
          "height": 46
        },
        "id": "S3k37GO5YMpm",
        "outputId": "8d965b53-17e9-4652-ab96-0b4a2d8db68f"
      },
      "execution_count": 39,
      "outputs": [
        {
          "output_type": "execute_result",
          "data": {
            "text/plain": [
              "Matrix([Vector([1, 0, 0, 0]), Vector([0, 1, 0, 0]), Vector([0, 0, -693, 0]), Vector([0, 0, 0, 99])])"
            ],
            "text/html": [
              "<p style=\"text-align:center;\">$\\left[ \\begin{array}{cccc}1&0&0&0\\\\0&1&0&0\\\\0&0&-693&0\\\\0&0&0&99\\\\ \\end{array} \\right]$</p>"
            ],
            "image/png": "$\\left[ \\begin{array}{cccc}1&0&0&0\\\\0&1&0&0\\\\0&0&-693&0\\\\0&0&0&99\\\\ \\end{array} \\right]$",
            "text/latex": "$\\left[ \\begin{array}{cccc}1&0&0&0\\\\0&1&0&0\\\\0&0&-693&0\\\\0&0&0&99\\\\ \\end{array} \\right]$"
          },
          "metadata": {},
          "execution_count": 39
        }
      ]
    },
    {
      "cell_type": "markdown",
      "source": [
        "$\\left[ \\begin{array}{cccc}1&0&0&0\\\\0&1&0&0\\\\0&0&-693&0\\\\0&0&0&99\\\\ \\end{array} \\right]$"
      ],
      "metadata": {
        "id": "p9Jqcxn-aXVB"
      }
    },
    {
      "cell_type": "code",
      "source": [
        "N&T((-fracc(1,693),3))"
      ],
      "metadata": {
        "colab": {
          "base_uri": "https://localhost:8080/",
          "height": 46
        },
        "id": "sVZXPU4GYOX6",
        "outputId": "0d036135-e2fa-4ea6-fe35-ac1137f4a6a6"
      },
      "execution_count": 41,
      "outputs": [
        {
          "output_type": "execute_result",
          "data": {
            "text/plain": [
              "Matrix([Vector([1, 0, 0, 0]), Vector([0, 1, 0, 0]), Vector([0, 0, 1, 0]), Vector([0, 0, 0, 1])])"
            ],
            "text/html": [
              "<p style=\"text-align:center;\">$\\left[ \\begin{array}{cccc}1&0&0&0\\\\0&1&0&0\\\\0&0&1&0\\\\0&0&0&1\\\\ \\end{array} \\right]$</p>"
            ],
            "image/png": "$\\left[ \\begin{array}{cccc}1&0&0&0\\\\0&1&0&0\\\\0&0&1&0\\\\0&0&0&1\\\\ \\end{array} \\right]$",
            "text/latex": "$\\left[ \\begin{array}{cccc}1&0&0&0\\\\0&1&0&0\\\\0&0&1&0\\\\0&0&0&1\\\\ \\end{array} \\right]$"
          },
          "metadata": {},
          "execution_count": 41
        }
      ]
    },
    {
      "cell_type": "markdown",
      "source": [
        "$\\left[ \\begin{array}{cccc}1&0&0&0\\\\0&1&0&0\\\\0&0&1&0\\\\0&0&0&1\\\\ \\end{array} \\right]$"
      ],
      "metadata": {
        "id": "W93rNapdaZR-"
      }
    },
    {
      "cell_type": "code",
      "source": [
        "N&T((fracc(1,99),4))"
      ],
      "metadata": {
        "colab": {
          "base_uri": "https://localhost:8080/",
          "height": 46
        },
        "id": "LgqGtCyLYQq7",
        "outputId": "4c7183de-7d7c-4896-aeba-4855d0ebb4d0"
      },
      "execution_count": 40,
      "outputs": [
        {
          "output_type": "execute_result",
          "data": {
            "text/plain": [
              "Matrix([Vector([1, 0, 0, 0]), Vector([0, 1, 0, 0]), Vector([0, 0, -693, 0]), Vector([0, 0, 0, 1])])"
            ],
            "text/html": [
              "<p style=\"text-align:center;\">$\\left[ \\begin{array}{cccc}1&0&0&0\\\\0&1&0&0\\\\0&0&-693&0\\\\0&0&0&1\\\\ \\end{array} \\right]$</p>"
            ],
            "image/png": "$\\left[ \\begin{array}{cccc}1&0&0&0\\\\0&1&0&0\\\\0&0&-693&0\\\\0&0&0&1\\\\ \\end{array} \\right]$",
            "text/latex": "$\\left[ \\begin{array}{cccc}1&0&0&0\\\\0&1&0&0\\\\0&0&-693&0\\\\0&0&0&1\\\\ \\end{array} \\right]$"
          },
          "metadata": {},
          "execution_count": 40
        }
      ]
    },
    {
      "cell_type": "markdown",
      "source": [
        "$\\left[ \\begin{array}{cccc}1&0&0&0\\\\0&1&0&0\\\\0&0&-693&0\\\\0&0&0&1\\\\ \\end{array} \\right]$"
      ],
      "metadata": {
        "id": "amLBtMY1abqy"
      }
    },
    {
      "cell_type": "markdown",
      "source": [
        "5. Compara tus resultados del ejercicio 1 con el metodo Elim()"
      ],
      "metadata": {
        "id": "C-GfuE9_Cw_H"
      }
    },
    {
      "cell_type": "code",
      "source": [
        "w= Vector((3,1,1,4)); x=Vector((-2,-1,1,-4)); y= Vector((2,-1,2,1)); z= Vector((1,-3,4,2))\n",
        "O= Matrix([w,x,y,z])\n",
        "O"
      ],
      "metadata": {
        "colab": {
          "base_uri": "https://localhost:8080/",
          "height": 46
        },
        "id": "3kgU51CCYVUr",
        "outputId": "bb3ff9c5-6f2d-4460-b2c2-c190d0c971ca"
      },
      "execution_count": 42,
      "outputs": [
        {
          "output_type": "execute_result",
          "data": {
            "text/plain": [
              "Matrix([Vector([3, 1, 1, 4]), Vector([-2, -1, 1, -4]), Vector([2, -1, 2, 1]), Vector([1, -3, 4, 2])])"
            ],
            "text/html": [
              "<p style=\"text-align:center;\">$\\left[ \\begin{array}{cccc}3&-2&2&1\\\\1&-1&-1&-3\\\\1&1&2&4\\\\4&-4&1&2\\\\ \\end{array} \\right]$</p>"
            ],
            "image/png": "$\\left[ \\begin{array}{cccc}3&-2&2&1\\\\1&-1&-1&-3\\\\1&1&2&4\\\\4&-4&1&2\\\\ \\end{array} \\right]$",
            "text/latex": "$\\left[ \\begin{array}{cccc}3&-2&2&1\\\\1&-1&-1&-3\\\\1&1&2&4\\\\4&-4&1&2\\\\ \\end{array} \\right]$"
          },
          "metadata": {},
          "execution_count": 42
        }
      ]
    },
    {
      "cell_type": "markdown",
      "source": [
        "$\\left[ \\begin{array}{cccc}3&-2&2&1\\\\1&-1&-1&-3\\\\1&1&2&4\\\\4&-4&1&2\\\\ \\end{array} \\right]$"
      ],
      "metadata": {
        "id": "H7rWua-Iae4M"
      }
    },
    {
      "cell_type": "code",
      "source": [
        "Elim(O).TrC"
      ],
      "metadata": {
        "id": "95iIlQeVYX06"
      },
      "execution_count": null,
      "outputs": []
    },
    {
      "cell_type": "markdown",
      "source": [
        "$\\underset{\\begin{subarray}{c} \\left[\\left(3\\right)\\mathbf{2}\\right]\\\\\\left[\\left(2\\right)\\mathbf{1}+\\mathbf{2} \\right]\\\\\\left[\\left(3\\right)\\mathbf{3}\\right]\\\\\\left[\\left(-2\\right)\\mathbf{1}+\\mathbf{3} \\right]\\\\\\left[\\left(3\\right)\\mathbf{4}\\right]\\\\\\left[\\left(-1\\right)\\mathbf{1}+\\mathbf{4} \\right]\\\\\\left[\\left(-5\\right)\\mathbf{2}+\\mathbf{3} \\right]\\\\\\left[\\left(-10\\right)\\mathbf{2}+\\mathbf{4} \\right]\\\\\\left[\\left(7\\right)\\mathbf{4}\\right]\\\\\\left[\\left(-13\\right)\\mathbf{3}+\\mathbf{4} \\right]\\end{subarray}}{\\pmb{\\tau}}$"
      ],
      "metadata": {
        "id": "oceqWzebakrw"
      }
    },
    {
      "cell_type": "markdown",
      "source": [
        " 6. Compara tus resultados del ejercicio 4 con el metodo ElimGJ()"
      ],
      "metadata": {
        "id": "LQ2qXfhaIRis"
      }
    },
    {
      "cell_type": "code",
      "source": [
        "ElimGJ(N,1)"
      ],
      "metadata": {
        "colab": {
          "base_uri": "https://localhost:8080/",
          "height": 128
        },
        "id": "fB8Erap6YhRg",
        "outputId": "f5f09a1b-5547-49ee-d710-7e808c1445f2"
      },
      "execution_count": 43,
      "outputs": [
        {
          "output_type": "display_data",
          "data": {
            "text/plain": [
              "<IPython.core.display.Math object>"
            ],
            "text/latex": "$\\displaystyle \\left[ \\begin{array}{cccc}1&0&0&0\\\\0&1&0&0\\\\0&0&1&0\\\\0&0&0&1\\\\ \\end{array} \\right]$"
          },
          "metadata": {}
        },
        {
          "output_type": "execute_result",
          "data": {
            "text/plain": [
              "Matrix([Vector([1, 0, 0, 0]), Vector([0, 1, 0, 0]), Vector([0, 0, 1, 0]), Vector([0, 0, 0, 1])])"
            ],
            "text/html": [
              "<p style=\"text-align:center;\">$\\left[ \\begin{array}{cccc}1&0&0&0\\\\0&1&0&0\\\\0&0&1&0\\\\0&0&0&1\\\\ \\end{array} \\right]$</p>"
            ],
            "image/png": "$\\left[ \\begin{array}{cccc}1&0&0&0\\\\0&1&0&0\\\\0&0&1&0\\\\0&0&0&1\\\\ \\end{array} \\right]$",
            "text/latex": "$\\left[ \\begin{array}{cccc}1&0&0&0\\\\0&1&0&0\\\\0&0&1&0\\\\0&0&0&1\\\\ \\end{array} \\right]$"
          },
          "metadata": {},
          "execution_count": 43
        }
      ]
    },
    {
      "cell_type": "markdown",
      "source": [
        "$\\left[ \\begin{array}{cccc}1&0&0&0\\\\0&1&0&0\\\\0&0&1&0\\\\0&0&0&1\\\\ \\end{array} \\right]$"
      ],
      "metadata": {
        "id": "qKzBuHhlap-0"
      }
    },
    {
      "cell_type": "markdown",
      "source": [
        "7. Encuentra la inversa de la matriz del ejercicio 1."
      ],
      "metadata": {
        "id": "2F3XtwbpIhOO"
      }
    },
    {
      "cell_type": "markdown",
      "source": [
        "8. Resuelva el siguiente sistema de ecuaciones:\n",
        "\n",
        "$$ \\begin{array}{ccc}5x&+7y&-z&=6\\\\2x&+10y&-2z&=4\\\\x&+y&+z&=0\\\\ \\end{array} $$"
      ],
      "metadata": {
        "id": "tABrI61xarPE"
      }
    }
  ]
}